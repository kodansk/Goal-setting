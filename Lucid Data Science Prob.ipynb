{
 "cells": [
  {
   "cell_type": "markdown",
   "metadata": {},
   "source": [
    "# Business Problem"
   ]
  },
  {
   "cell_type": "markdown",
   "metadata": {},
   "source": [
    "Business Problem :: To Creating a more objective and fair process for goal setting!!\n",
    "\n",
    "We have data from 4 data sources namely : \n",
    "1) account quarter :: each account in every quarter since Q1\n",
    "2) account assignments :: each account and shows the unique identifier of the rep assigned to work with the account\n",
    "3) reps => entry for each rep and shows their unique identifier\n",
    "4) teams => an entry for each team\n",
    "\n",
    "We will explore all dataset and identify rep level goals, team-level goal and aggregate goals for quarter 2 2021.\n"
   ]
  },
  {
   "cell_type": "markdown",
   "metadata": {},
   "source": [
    "## Loading Data Files and Packages"
   ]
  },
  {
   "cell_type": "code",
   "execution_count": 283,
   "metadata": {},
   "outputs": [],
   "source": [
    "import pandas as pd\n",
    "import numpy as np\n",
    "import datetime \n",
    "import matplotlib.pyplot as plt\n",
    "import seaborn as sns\n",
    "import statsmodels.api as sm \n",
    "import pylab as py \n",
    "%matplotlib inline"
   ]
  },
  {
   "cell_type": "code",
   "execution_count": 284,
   "metadata": {},
   "outputs": [],
   "source": [
    "from sklearn.model_selection import GridSearchCV, RandomizedSearchCV\n",
    "from sklearn.pipeline import Pipeline\n",
    "from sklearn.decomposition import PCA\n",
    "from sklearn.metrics import make_scorer\n",
    "from sklearn.preprocessing import StandardScaler\n",
    "from sklearn.ensemble import RandomForestRegressor, ExtraTreesRegressor\n",
    "from sklearn.neural_network import MLPRegressor\n",
    "from sklearn.neighbors import KNeighborsRegressor"
   ]
  },
  {
   "cell_type": "code",
   "execution_count": 285,
   "metadata": {},
   "outputs": [],
   "source": [
    "excel=\"/Users/shaivya/Desktop/Data_Science_HW_Data.xlsx\""
   ]
  },
  {
   "cell_type": "code",
   "execution_count": 286,
   "metadata": {},
   "outputs": [],
   "source": [
    "account = pd.read_excel(excel)"
   ]
  },
  {
   "cell_type": "code",
   "execution_count": 287,
   "metadata": {},
   "outputs": [],
   "source": [
    "acct_assgn = pd.read_excel(excel, sheet_name=1)"
   ]
  },
  {
   "cell_type": "code",
   "execution_count": 288,
   "metadata": {},
   "outputs": [],
   "source": [
    "reps = pd.read_excel(excel, sheet_name=2)"
   ]
  },
  {
   "cell_type": "code",
   "execution_count": 289,
   "metadata": {},
   "outputs": [],
   "source": [
    "teams = pd.read_excel(excel, sheet_name=3)"
   ]
  },
  {
   "cell_type": "code",
   "execution_count": 291,
   "metadata": {},
   "outputs": [],
   "source": [
    "#account.dtypes\n",
    "#acct_assgn.dtypes\n",
    "#reps.dtypes\n",
    "#teams.dtypes"
   ]
  },
  {
   "cell_type": "markdown",
   "metadata": {},
   "source": [
    "## Look at Representatives level "
   ]
  },
  {
   "cell_type": "code",
   "execution_count": 292,
   "metadata": {},
   "outputs": [
    {
     "data": {
      "text/html": [
       "<div>\n",
       "<style scoped>\n",
       "    .dataframe tbody tr th:only-of-type {\n",
       "        vertical-align: middle;\n",
       "    }\n",
       "\n",
       "    .dataframe tbody tr th {\n",
       "        vertical-align: top;\n",
       "    }\n",
       "\n",
       "    .dataframe thead th {\n",
       "        text-align: right;\n",
       "    }\n",
       "</style>\n",
       "<table border=\"1\" class=\"dataframe\">\n",
       "  <thead>\n",
       "    <tr style=\"text-align: right;\">\n",
       "      <th></th>\n",
       "      <th>account_id</th>\n",
       "      <th>start_arr</th>\n",
       "      <th>expansion_arr</th>\n",
       "    </tr>\n",
       "  </thead>\n",
       "  <tbody>\n",
       "    <tr>\n",
       "      <th>count</th>\n",
       "      <td>3600.000000</td>\n",
       "      <td>3600.000000</td>\n",
       "      <td>3400.000000</td>\n",
       "    </tr>\n",
       "    <tr>\n",
       "      <th>mean</th>\n",
       "      <td>100.500000</td>\n",
       "      <td>66552.805627</td>\n",
       "      <td>2791.467651</td>\n",
       "    </tr>\n",
       "    <tr>\n",
       "      <th>std</th>\n",
       "      <td>57.742326</td>\n",
       "      <td>70005.242153</td>\n",
       "      <td>12852.686209</td>\n",
       "    </tr>\n",
       "    <tr>\n",
       "      <th>min</th>\n",
       "      <td>1.000000</td>\n",
       "      <td>100.000000</td>\n",
       "      <td>0.000000</td>\n",
       "    </tr>\n",
       "    <tr>\n",
       "      <th>25%</th>\n",
       "      <td>50.750000</td>\n",
       "      <td>9037.703818</td>\n",
       "      <td>0.000000</td>\n",
       "    </tr>\n",
       "    <tr>\n",
       "      <th>50%</th>\n",
       "      <td>100.500000</td>\n",
       "      <td>18745.297250</td>\n",
       "      <td>0.000000</td>\n",
       "    </tr>\n",
       "    <tr>\n",
       "      <th>75%</th>\n",
       "      <td>150.250000</td>\n",
       "      <td>121055.581251</td>\n",
       "      <td>0.000000</td>\n",
       "    </tr>\n",
       "    <tr>\n",
       "      <th>max</th>\n",
       "      <td>200.000000</td>\n",
       "      <td>378000.346580</td>\n",
       "      <td>158477.701708</td>\n",
       "    </tr>\n",
       "  </tbody>\n",
       "</table>\n",
       "</div>"
      ],
      "text/plain": [
       "        account_id      start_arr  expansion_arr\n",
       "count  3600.000000    3600.000000    3400.000000\n",
       "mean    100.500000   66552.805627    2791.467651\n",
       "std      57.742326   70005.242153   12852.686209\n",
       "min       1.000000     100.000000       0.000000\n",
       "25%      50.750000    9037.703818       0.000000\n",
       "50%     100.500000   18745.297250       0.000000\n",
       "75%     150.250000  121055.581251       0.000000\n",
       "max     200.000000  378000.346580  158477.701708"
      ]
     },
     "execution_count": 292,
     "metadata": {},
     "output_type": "execute_result"
    }
   ],
   "source": [
    "account.describe()"
   ]
  },
  {
   "cell_type": "markdown",
   "metadata": {},
   "source": [
    "We observe account quarter is the main data file we will go ahead and join acct_assign,reps, teams table \n",
    "lets join account and rep tables and firstly extract values from date column "
   ]
  },
  {
   "cell_type": "code",
   "execution_count": 293,
   "metadata": {},
   "outputs": [],
   "source": [
    "account_acct_assgn=pd.merge(account,acct_assgn,on='account_id',how='left')"
   ]
  },
  {
   "cell_type": "code",
   "execution_count": 294,
   "metadata": {},
   "outputs": [
    {
     "data": {
      "text/html": [
       "<div>\n",
       "<style scoped>\n",
       "    .dataframe tbody tr th:only-of-type {\n",
       "        vertical-align: middle;\n",
       "    }\n",
       "\n",
       "    .dataframe tbody tr th {\n",
       "        vertical-align: top;\n",
       "    }\n",
       "\n",
       "    .dataframe thead th {\n",
       "        text-align: right;\n",
       "    }\n",
       "</style>\n",
       "<table border=\"1\" class=\"dataframe\">\n",
       "  <thead>\n",
       "    <tr style=\"text-align: right;\">\n",
       "      <th></th>\n",
       "      <th>account_id</th>\n",
       "      <th>quarter</th>\n",
       "      <th>start_subscription_type</th>\n",
       "      <th>start_arr</th>\n",
       "      <th>expansion_arr</th>\n",
       "      <th>rep_id</th>\n",
       "    </tr>\n",
       "  </thead>\n",
       "  <tbody>\n",
       "    <tr>\n",
       "      <th>0</th>\n",
       "      <td>1</td>\n",
       "      <td>2017-01-01</td>\n",
       "      <td>team</td>\n",
       "      <td>8172.226700</td>\n",
       "      <td>0.0</td>\n",
       "      <td>1</td>\n",
       "    </tr>\n",
       "    <tr>\n",
       "      <th>1</th>\n",
       "      <td>1</td>\n",
       "      <td>2017-04-01</td>\n",
       "      <td>team</td>\n",
       "      <td>8172.226700</td>\n",
       "      <td>0.0</td>\n",
       "      <td>1</td>\n",
       "    </tr>\n",
       "    <tr>\n",
       "      <th>2</th>\n",
       "      <td>1</td>\n",
       "      <td>2017-07-01</td>\n",
       "      <td>team</td>\n",
       "      <td>8172.226700</td>\n",
       "      <td>0.0</td>\n",
       "      <td>1</td>\n",
       "    </tr>\n",
       "    <tr>\n",
       "      <th>3</th>\n",
       "      <td>1</td>\n",
       "      <td>2017-10-01</td>\n",
       "      <td>team</td>\n",
       "      <td>8172.226700</td>\n",
       "      <td>0.0</td>\n",
       "      <td>1</td>\n",
       "    </tr>\n",
       "    <tr>\n",
       "      <th>4</th>\n",
       "      <td>1</td>\n",
       "      <td>2018-01-01</td>\n",
       "      <td>team</td>\n",
       "      <td>8172.226700</td>\n",
       "      <td>0.0</td>\n",
       "      <td>1</td>\n",
       "    </tr>\n",
       "    <tr>\n",
       "      <th>...</th>\n",
       "      <td>...</td>\n",
       "      <td>...</td>\n",
       "      <td>...</td>\n",
       "      <td>...</td>\n",
       "      <td>...</td>\n",
       "      <td>...</td>\n",
       "    </tr>\n",
       "    <tr>\n",
       "      <th>3595</th>\n",
       "      <td>200</td>\n",
       "      <td>2020-04-01</td>\n",
       "      <td>enterprise</td>\n",
       "      <td>231202.606738</td>\n",
       "      <td>0.0</td>\n",
       "      <td>10</td>\n",
       "    </tr>\n",
       "    <tr>\n",
       "      <th>3596</th>\n",
       "      <td>200</td>\n",
       "      <td>2020-07-01</td>\n",
       "      <td>team</td>\n",
       "      <td>231202.606738</td>\n",
       "      <td>0.0</td>\n",
       "      <td>10</td>\n",
       "    </tr>\n",
       "    <tr>\n",
       "      <th>3597</th>\n",
       "      <td>200</td>\n",
       "      <td>2020-10-01</td>\n",
       "      <td>team</td>\n",
       "      <td>6864.543108</td>\n",
       "      <td>0.0</td>\n",
       "      <td>10</td>\n",
       "    </tr>\n",
       "    <tr>\n",
       "      <th>3598</th>\n",
       "      <td>200</td>\n",
       "      <td>2021-01-01</td>\n",
       "      <td>team</td>\n",
       "      <td>6864.543108</td>\n",
       "      <td>0.0</td>\n",
       "      <td>10</td>\n",
       "    </tr>\n",
       "    <tr>\n",
       "      <th>3599</th>\n",
       "      <td>200</td>\n",
       "      <td>2021-04-01</td>\n",
       "      <td>team</td>\n",
       "      <td>6864.543108</td>\n",
       "      <td>NaN</td>\n",
       "      <td>10</td>\n",
       "    </tr>\n",
       "  </tbody>\n",
       "</table>\n",
       "<p>3600 rows × 6 columns</p>\n",
       "</div>"
      ],
      "text/plain": [
       "      account_id    quarter start_subscription_type      start_arr  \\\n",
       "0              1 2017-01-01                    team    8172.226700   \n",
       "1              1 2017-04-01                    team    8172.226700   \n",
       "2              1 2017-07-01                    team    8172.226700   \n",
       "3              1 2017-10-01                    team    8172.226700   \n",
       "4              1 2018-01-01                    team    8172.226700   \n",
       "...          ...        ...                     ...            ...   \n",
       "3595         200 2020-04-01              enterprise  231202.606738   \n",
       "3596         200 2020-07-01                    team  231202.606738   \n",
       "3597         200 2020-10-01                    team    6864.543108   \n",
       "3598         200 2021-01-01                    team    6864.543108   \n",
       "3599         200 2021-04-01                    team    6864.543108   \n",
       "\n",
       "      expansion_arr  rep_id  \n",
       "0               0.0       1  \n",
       "1               0.0       1  \n",
       "2               0.0       1  \n",
       "3               0.0       1  \n",
       "4               0.0       1  \n",
       "...             ...     ...  \n",
       "3595            0.0      10  \n",
       "3596            0.0      10  \n",
       "3597            0.0      10  \n",
       "3598            0.0      10  \n",
       "3599            NaN      10  \n",
       "\n",
       "[3600 rows x 6 columns]"
      ]
     },
     "execution_count": 294,
     "metadata": {},
     "output_type": "execute_result"
    }
   ],
   "source": [
    "account_acct_assgn"
   ]
  },
  {
   "cell_type": "code",
   "execution_count": 295,
   "metadata": {},
   "outputs": [
    {
     "name": "stdout",
     "output_type": "stream",
     "text": [
      "(3600, 6)\n",
      "<class 'pandas.core.frame.DataFrame'>\n",
      "Int64Index: 3600 entries, 0 to 3599\n",
      "Data columns (total 6 columns):\n",
      " #   Column                   Non-Null Count  Dtype         \n",
      "---  ------                   --------------  -----         \n",
      " 0   account_id               3600 non-null   int64         \n",
      " 1   quarter                  3600 non-null   datetime64[ns]\n",
      " 2   start_subscription_type  3600 non-null   object        \n",
      " 3   start_arr                3600 non-null   float64       \n",
      " 4   expansion_arr            3400 non-null   float64       \n",
      " 5   rep_id                   3600 non-null   int64         \n",
      "dtypes: datetime64[ns](1), float64(2), int64(2), object(1)\n",
      "memory usage: 196.9+ KB\n",
      "None\n"
     ]
    }
   ],
   "source": [
    "print(account_acct_assgn.shape)\n",
    "print(account_acct_assgn.info())"
   ]
  },
  {
   "cell_type": "code",
   "execution_count": 296,
   "metadata": {},
   "outputs": [],
   "source": [
    "account_acct_assgn.columns = ['account_id', 'Date', 'start_subscription_type', 'start_arr', 'expansion_arr','rep_id']"
   ]
  },
  {
   "cell_type": "code",
   "execution_count": 297,
   "metadata": {},
   "outputs": [],
   "source": [
    "account_acct_assgn['Date'] = pd.to_datetime(account_acct_assgn['Date'])\n",
    "account_acct_assgn['Date'] = account_acct_assgn['Date'].dt.strftime('%Y-%m-%d')\n",
    "account_acct_assgn['year'] = pd.DatetimeIndex(account_acct_assgn['Date']).year\n",
    "account_acct_assgn['quarter'] = pd.DatetimeIndex(account_acct_assgn['Date']).quarter"
   ]
  },
  {
   "cell_type": "code",
   "execution_count": 298,
   "metadata": {},
   "outputs": [
    {
     "data": {
      "text/html": [
       "<div>\n",
       "<style scoped>\n",
       "    .dataframe tbody tr th:only-of-type {\n",
       "        vertical-align: middle;\n",
       "    }\n",
       "\n",
       "    .dataframe tbody tr th {\n",
       "        vertical-align: top;\n",
       "    }\n",
       "\n",
       "    .dataframe thead th {\n",
       "        text-align: right;\n",
       "    }\n",
       "</style>\n",
       "<table border=\"1\" class=\"dataframe\">\n",
       "  <thead>\n",
       "    <tr style=\"text-align: right;\">\n",
       "      <th></th>\n",
       "      <th>account_id</th>\n",
       "      <th>Date</th>\n",
       "      <th>start_subscription_type</th>\n",
       "      <th>start_arr</th>\n",
       "      <th>expansion_arr</th>\n",
       "      <th>rep_id</th>\n",
       "      <th>year</th>\n",
       "      <th>quarter</th>\n",
       "    </tr>\n",
       "  </thead>\n",
       "  <tbody>\n",
       "    <tr>\n",
       "      <th>0</th>\n",
       "      <td>1</td>\n",
       "      <td>2017-01-01</td>\n",
       "      <td>team</td>\n",
       "      <td>8172.2267</td>\n",
       "      <td>0.0</td>\n",
       "      <td>1</td>\n",
       "      <td>2017</td>\n",
       "      <td>1</td>\n",
       "    </tr>\n",
       "    <tr>\n",
       "      <th>1</th>\n",
       "      <td>1</td>\n",
       "      <td>2017-04-01</td>\n",
       "      <td>team</td>\n",
       "      <td>8172.2267</td>\n",
       "      <td>0.0</td>\n",
       "      <td>1</td>\n",
       "      <td>2017</td>\n",
       "      <td>2</td>\n",
       "    </tr>\n",
       "    <tr>\n",
       "      <th>2</th>\n",
       "      <td>1</td>\n",
       "      <td>2017-07-01</td>\n",
       "      <td>team</td>\n",
       "      <td>8172.2267</td>\n",
       "      <td>0.0</td>\n",
       "      <td>1</td>\n",
       "      <td>2017</td>\n",
       "      <td>3</td>\n",
       "    </tr>\n",
       "    <tr>\n",
       "      <th>3</th>\n",
       "      <td>1</td>\n",
       "      <td>2017-10-01</td>\n",
       "      <td>team</td>\n",
       "      <td>8172.2267</td>\n",
       "      <td>0.0</td>\n",
       "      <td>1</td>\n",
       "      <td>2017</td>\n",
       "      <td>4</td>\n",
       "    </tr>\n",
       "    <tr>\n",
       "      <th>4</th>\n",
       "      <td>1</td>\n",
       "      <td>2018-01-01</td>\n",
       "      <td>team</td>\n",
       "      <td>8172.2267</td>\n",
       "      <td>0.0</td>\n",
       "      <td>1</td>\n",
       "      <td>2018</td>\n",
       "      <td>1</td>\n",
       "    </tr>\n",
       "  </tbody>\n",
       "</table>\n",
       "</div>"
      ],
      "text/plain": [
       "   account_id        Date start_subscription_type  start_arr  expansion_arr  \\\n",
       "0           1  2017-01-01                    team  8172.2267            0.0   \n",
       "1           1  2017-04-01                    team  8172.2267            0.0   \n",
       "2           1  2017-07-01                    team  8172.2267            0.0   \n",
       "3           1  2017-10-01                    team  8172.2267            0.0   \n",
       "4           1  2018-01-01                    team  8172.2267            0.0   \n",
       "\n",
       "   rep_id  year  quarter  \n",
       "0       1  2017        1  \n",
       "1       1  2017        2  \n",
       "2       1  2017        3  \n",
       "3       1  2017        4  \n",
       "4       1  2018        1  "
      ]
     },
     "execution_count": 298,
     "metadata": {},
     "output_type": "execute_result"
    }
   ],
   "source": [
    "account_acct_assgn.head()"
   ]
  },
  {
   "cell_type": "code",
   "execution_count": 299,
   "metadata": {},
   "outputs": [],
   "source": [
    "## Look at how many accounts each rep has\n",
    "acctperrep=account_acct_assgn.groupby([\"rep_id\"]).agg({'account_id':'count'}).reset_index()"
   ]
  },
  {
   "cell_type": "code",
   "execution_count": 300,
   "metadata": {},
   "outputs": [
    {
     "data": {
      "text/html": [
       "<div>\n",
       "<style scoped>\n",
       "    .dataframe tbody tr th:only-of-type {\n",
       "        vertical-align: middle;\n",
       "    }\n",
       "\n",
       "    .dataframe tbody tr th {\n",
       "        vertical-align: top;\n",
       "    }\n",
       "\n",
       "    .dataframe thead th {\n",
       "        text-align: right;\n",
       "    }\n",
       "</style>\n",
       "<table border=\"1\" class=\"dataframe\">\n",
       "  <thead>\n",
       "    <tr style=\"text-align: right;\">\n",
       "      <th></th>\n",
       "      <th>rep_id</th>\n",
       "      <th>account_id</th>\n",
       "    </tr>\n",
       "  </thead>\n",
       "  <tbody>\n",
       "    <tr>\n",
       "      <th>0</th>\n",
       "      <td>1</td>\n",
       "      <td>360</td>\n",
       "    </tr>\n",
       "    <tr>\n",
       "      <th>1</th>\n",
       "      <td>2</td>\n",
       "      <td>360</td>\n",
       "    </tr>\n",
       "    <tr>\n",
       "      <th>2</th>\n",
       "      <td>3</td>\n",
       "      <td>360</td>\n",
       "    </tr>\n",
       "    <tr>\n",
       "      <th>3</th>\n",
       "      <td>4</td>\n",
       "      <td>360</td>\n",
       "    </tr>\n",
       "  </tbody>\n",
       "</table>\n",
       "</div>"
      ],
      "text/plain": [
       "   rep_id  account_id\n",
       "0       1         360\n",
       "1       2         360\n",
       "2       3         360\n",
       "3       4         360"
      ]
     },
     "execution_count": 300,
     "metadata": {},
     "output_type": "execute_result"
    }
   ],
   "source": [
    "acctperrep.head(4)\n",
    "# divide this number by 4*4 =16 to get 20 accounts per rep == equal"
   ]
  },
  {
   "cell_type": "markdown",
   "metadata": {},
   "source": [
    "Remove q2 that is date 2021-04-01 ; this the value we need to get a number for \n",
    "We will extract the rows with dates 2021-04-01 : remember these rows actually make up our test data set"
   ]
  },
  {
   "cell_type": "code",
   "execution_count": null,
   "metadata": {},
   "outputs": [],
   "source": [
    "account_acct_assgn_tst=account_acct_assgn[(account_acct_assgn['Date'] == \"2021-04-01\")]"
   ]
  },
  {
   "cell_type": "code",
   "execution_count": 303,
   "metadata": {},
   "outputs": [
    {
     "data": {
      "text/html": [
       "<div>\n",
       "<style scoped>\n",
       "    .dataframe tbody tr th:only-of-type {\n",
       "        vertical-align: middle;\n",
       "    }\n",
       "\n",
       "    .dataframe tbody tr th {\n",
       "        vertical-align: top;\n",
       "    }\n",
       "\n",
       "    .dataframe thead th {\n",
       "        text-align: right;\n",
       "    }\n",
       "</style>\n",
       "<table border=\"1\" class=\"dataframe\">\n",
       "  <thead>\n",
       "    <tr style=\"text-align: right;\">\n",
       "      <th></th>\n",
       "      <th>index</th>\n",
       "      <th>account_id</th>\n",
       "      <th>Date</th>\n",
       "      <th>start_subscription_type</th>\n",
       "      <th>start_arr</th>\n",
       "      <th>expansion_arr</th>\n",
       "      <th>rep_id</th>\n",
       "      <th>year</th>\n",
       "      <th>quarter</th>\n",
       "    </tr>\n",
       "  </thead>\n",
       "  <tbody>\n",
       "    <tr>\n",
       "      <th>0</th>\n",
       "      <td>17</td>\n",
       "      <td>1</td>\n",
       "      <td>2021-04-01</td>\n",
       "      <td>team</td>\n",
       "      <td>9662.107206</td>\n",
       "      <td>NaN</td>\n",
       "      <td>1</td>\n",
       "      <td>2021</td>\n",
       "      <td>2</td>\n",
       "    </tr>\n",
       "    <tr>\n",
       "      <th>1</th>\n",
       "      <td>35</td>\n",
       "      <td>2</td>\n",
       "      <td>2021-04-01</td>\n",
       "      <td>individual</td>\n",
       "      <td>400.000000</td>\n",
       "      <td>NaN</td>\n",
       "      <td>1</td>\n",
       "      <td>2021</td>\n",
       "      <td>2</td>\n",
       "    </tr>\n",
       "    <tr>\n",
       "      <th>2</th>\n",
       "      <td>53</td>\n",
       "      <td>3</td>\n",
       "      <td>2021-04-01</td>\n",
       "      <td>enterprise</td>\n",
       "      <td>85987.698943</td>\n",
       "      <td>NaN</td>\n",
       "      <td>1</td>\n",
       "      <td>2021</td>\n",
       "      <td>2</td>\n",
       "    </tr>\n",
       "    <tr>\n",
       "      <th>3</th>\n",
       "      <td>71</td>\n",
       "      <td>4</td>\n",
       "      <td>2021-04-01</td>\n",
       "      <td>enterprise</td>\n",
       "      <td>130818.756188</td>\n",
       "      <td>NaN</td>\n",
       "      <td>1</td>\n",
       "      <td>2021</td>\n",
       "      <td>2</td>\n",
       "    </tr>\n",
       "    <tr>\n",
       "      <th>4</th>\n",
       "      <td>89</td>\n",
       "      <td>5</td>\n",
       "      <td>2021-04-01</td>\n",
       "      <td>individual</td>\n",
       "      <td>200.000000</td>\n",
       "      <td>NaN</td>\n",
       "      <td>1</td>\n",
       "      <td>2021</td>\n",
       "      <td>2</td>\n",
       "    </tr>\n",
       "    <tr>\n",
       "      <th>...</th>\n",
       "      <td>...</td>\n",
       "      <td>...</td>\n",
       "      <td>...</td>\n",
       "      <td>...</td>\n",
       "      <td>...</td>\n",
       "      <td>...</td>\n",
       "      <td>...</td>\n",
       "      <td>...</td>\n",
       "      <td>...</td>\n",
       "    </tr>\n",
       "    <tr>\n",
       "      <th>195</th>\n",
       "      <td>3527</td>\n",
       "      <td>196</td>\n",
       "      <td>2021-04-01</td>\n",
       "      <td>team</td>\n",
       "      <td>14345.835112</td>\n",
       "      <td>NaN</td>\n",
       "      <td>10</td>\n",
       "      <td>2021</td>\n",
       "      <td>2</td>\n",
       "    </tr>\n",
       "    <tr>\n",
       "      <th>196</th>\n",
       "      <td>3545</td>\n",
       "      <td>197</td>\n",
       "      <td>2021-04-01</td>\n",
       "      <td>enterprise</td>\n",
       "      <td>350476.525557</td>\n",
       "      <td>NaN</td>\n",
       "      <td>10</td>\n",
       "      <td>2021</td>\n",
       "      <td>2</td>\n",
       "    </tr>\n",
       "    <tr>\n",
       "      <th>197</th>\n",
       "      <td>3563</td>\n",
       "      <td>198</td>\n",
       "      <td>2021-04-01</td>\n",
       "      <td>individual</td>\n",
       "      <td>1100.000000</td>\n",
       "      <td>NaN</td>\n",
       "      <td>10</td>\n",
       "      <td>2021</td>\n",
       "      <td>2</td>\n",
       "    </tr>\n",
       "    <tr>\n",
       "      <th>198</th>\n",
       "      <td>3581</td>\n",
       "      <td>199</td>\n",
       "      <td>2021-04-01</td>\n",
       "      <td>enterprise</td>\n",
       "      <td>168917.740989</td>\n",
       "      <td>NaN</td>\n",
       "      <td>10</td>\n",
       "      <td>2021</td>\n",
       "      <td>2</td>\n",
       "    </tr>\n",
       "    <tr>\n",
       "      <th>199</th>\n",
       "      <td>3599</td>\n",
       "      <td>200</td>\n",
       "      <td>2021-04-01</td>\n",
       "      <td>team</td>\n",
       "      <td>6864.543108</td>\n",
       "      <td>NaN</td>\n",
       "      <td>10</td>\n",
       "      <td>2021</td>\n",
       "      <td>2</td>\n",
       "    </tr>\n",
       "  </tbody>\n",
       "</table>\n",
       "<p>200 rows × 9 columns</p>\n",
       "</div>"
      ],
      "text/plain": [
       "     index  account_id        Date start_subscription_type      start_arr  \\\n",
       "0       17           1  2021-04-01                    team    9662.107206   \n",
       "1       35           2  2021-04-01              individual     400.000000   \n",
       "2       53           3  2021-04-01              enterprise   85987.698943   \n",
       "3       71           4  2021-04-01              enterprise  130818.756188   \n",
       "4       89           5  2021-04-01              individual     200.000000   \n",
       "..     ...         ...         ...                     ...            ...   \n",
       "195   3527         196  2021-04-01                    team   14345.835112   \n",
       "196   3545         197  2021-04-01              enterprise  350476.525557   \n",
       "197   3563         198  2021-04-01              individual    1100.000000   \n",
       "198   3581         199  2021-04-01              enterprise  168917.740989   \n",
       "199   3599         200  2021-04-01                    team    6864.543108   \n",
       "\n",
       "     expansion_arr  rep_id  year  quarter  \n",
       "0              NaN       1  2021        2  \n",
       "1              NaN       1  2021        2  \n",
       "2              NaN       1  2021        2  \n",
       "3              NaN       1  2021        2  \n",
       "4              NaN       1  2021        2  \n",
       "..             ...     ...   ...      ...  \n",
       "195            NaN      10  2021        2  \n",
       "196            NaN      10  2021        2  \n",
       "197            NaN      10  2021        2  \n",
       "198            NaN      10  2021        2  \n",
       "199            NaN      10  2021        2  \n",
       "\n",
       "[200 rows x 9 columns]"
      ]
     },
     "execution_count": 303,
     "metadata": {},
     "output_type": "execute_result"
    }
   ],
   "source": [
    "account_acct_assgn_tst.reset_index()"
   ]
  },
  {
   "cell_type": "code",
   "execution_count": 304,
   "metadata": {},
   "outputs": [],
   "source": [
    "## our data on which we will work is \n",
    "account_acct_assgn_train = account_acct_assgn[(account_acct_assgn['Date'] != \"2021-04-01\")]"
   ]
  },
  {
   "cell_type": "code",
   "execution_count": 305,
   "metadata": {},
   "outputs": [
    {
     "data": {
      "text/html": [
       "<div>\n",
       "<style scoped>\n",
       "    .dataframe tbody tr th:only-of-type {\n",
       "        vertical-align: middle;\n",
       "    }\n",
       "\n",
       "    .dataframe tbody tr th {\n",
       "        vertical-align: top;\n",
       "    }\n",
       "\n",
       "    .dataframe thead th {\n",
       "        text-align: right;\n",
       "    }\n",
       "</style>\n",
       "<table border=\"1\" class=\"dataframe\">\n",
       "  <thead>\n",
       "    <tr style=\"text-align: right;\">\n",
       "      <th></th>\n",
       "      <th>index</th>\n",
       "      <th>account_id</th>\n",
       "      <th>Date</th>\n",
       "      <th>start_subscription_type</th>\n",
       "      <th>start_arr</th>\n",
       "      <th>expansion_arr</th>\n",
       "      <th>rep_id</th>\n",
       "      <th>year</th>\n",
       "      <th>quarter</th>\n",
       "    </tr>\n",
       "  </thead>\n",
       "  <tbody>\n",
       "    <tr>\n",
       "      <th>0</th>\n",
       "      <td>0</td>\n",
       "      <td>1</td>\n",
       "      <td>2017-01-01</td>\n",
       "      <td>team</td>\n",
       "      <td>8172.226700</td>\n",
       "      <td>0.0</td>\n",
       "      <td>1</td>\n",
       "      <td>2017</td>\n",
       "      <td>1</td>\n",
       "    </tr>\n",
       "    <tr>\n",
       "      <th>1</th>\n",
       "      <td>1</td>\n",
       "      <td>1</td>\n",
       "      <td>2017-04-01</td>\n",
       "      <td>team</td>\n",
       "      <td>8172.226700</td>\n",
       "      <td>0.0</td>\n",
       "      <td>1</td>\n",
       "      <td>2017</td>\n",
       "      <td>2</td>\n",
       "    </tr>\n",
       "    <tr>\n",
       "      <th>2</th>\n",
       "      <td>2</td>\n",
       "      <td>1</td>\n",
       "      <td>2017-07-01</td>\n",
       "      <td>team</td>\n",
       "      <td>8172.226700</td>\n",
       "      <td>0.0</td>\n",
       "      <td>1</td>\n",
       "      <td>2017</td>\n",
       "      <td>3</td>\n",
       "    </tr>\n",
       "    <tr>\n",
       "      <th>3</th>\n",
       "      <td>3</td>\n",
       "      <td>1</td>\n",
       "      <td>2017-10-01</td>\n",
       "      <td>team</td>\n",
       "      <td>8172.226700</td>\n",
       "      <td>0.0</td>\n",
       "      <td>1</td>\n",
       "      <td>2017</td>\n",
       "      <td>4</td>\n",
       "    </tr>\n",
       "    <tr>\n",
       "      <th>4</th>\n",
       "      <td>4</td>\n",
       "      <td>1</td>\n",
       "      <td>2018-01-01</td>\n",
       "      <td>team</td>\n",
       "      <td>8172.226700</td>\n",
       "      <td>0.0</td>\n",
       "      <td>1</td>\n",
       "      <td>2018</td>\n",
       "      <td>1</td>\n",
       "    </tr>\n",
       "    <tr>\n",
       "      <th>...</th>\n",
       "      <td>...</td>\n",
       "      <td>...</td>\n",
       "      <td>...</td>\n",
       "      <td>...</td>\n",
       "      <td>...</td>\n",
       "      <td>...</td>\n",
       "      <td>...</td>\n",
       "      <td>...</td>\n",
       "      <td>...</td>\n",
       "    </tr>\n",
       "    <tr>\n",
       "      <th>3395</th>\n",
       "      <td>3594</td>\n",
       "      <td>200</td>\n",
       "      <td>2020-01-01</td>\n",
       "      <td>enterprise</td>\n",
       "      <td>231202.606738</td>\n",
       "      <td>0.0</td>\n",
       "      <td>10</td>\n",
       "      <td>2020</td>\n",
       "      <td>1</td>\n",
       "    </tr>\n",
       "    <tr>\n",
       "      <th>3396</th>\n",
       "      <td>3595</td>\n",
       "      <td>200</td>\n",
       "      <td>2020-04-01</td>\n",
       "      <td>enterprise</td>\n",
       "      <td>231202.606738</td>\n",
       "      <td>0.0</td>\n",
       "      <td>10</td>\n",
       "      <td>2020</td>\n",
       "      <td>2</td>\n",
       "    </tr>\n",
       "    <tr>\n",
       "      <th>3397</th>\n",
       "      <td>3596</td>\n",
       "      <td>200</td>\n",
       "      <td>2020-07-01</td>\n",
       "      <td>team</td>\n",
       "      <td>231202.606738</td>\n",
       "      <td>0.0</td>\n",
       "      <td>10</td>\n",
       "      <td>2020</td>\n",
       "      <td>3</td>\n",
       "    </tr>\n",
       "    <tr>\n",
       "      <th>3398</th>\n",
       "      <td>3597</td>\n",
       "      <td>200</td>\n",
       "      <td>2020-10-01</td>\n",
       "      <td>team</td>\n",
       "      <td>6864.543108</td>\n",
       "      <td>0.0</td>\n",
       "      <td>10</td>\n",
       "      <td>2020</td>\n",
       "      <td>4</td>\n",
       "    </tr>\n",
       "    <tr>\n",
       "      <th>3399</th>\n",
       "      <td>3598</td>\n",
       "      <td>200</td>\n",
       "      <td>2021-01-01</td>\n",
       "      <td>team</td>\n",
       "      <td>6864.543108</td>\n",
       "      <td>0.0</td>\n",
       "      <td>10</td>\n",
       "      <td>2021</td>\n",
       "      <td>1</td>\n",
       "    </tr>\n",
       "  </tbody>\n",
       "</table>\n",
       "<p>3400 rows × 9 columns</p>\n",
       "</div>"
      ],
      "text/plain": [
       "      index  account_id        Date start_subscription_type      start_arr  \\\n",
       "0         0           1  2017-01-01                    team    8172.226700   \n",
       "1         1           1  2017-04-01                    team    8172.226700   \n",
       "2         2           1  2017-07-01                    team    8172.226700   \n",
       "3         3           1  2017-10-01                    team    8172.226700   \n",
       "4         4           1  2018-01-01                    team    8172.226700   \n",
       "...     ...         ...         ...                     ...            ...   \n",
       "3395   3594         200  2020-01-01              enterprise  231202.606738   \n",
       "3396   3595         200  2020-04-01              enterprise  231202.606738   \n",
       "3397   3596         200  2020-07-01                    team  231202.606738   \n",
       "3398   3597         200  2020-10-01                    team    6864.543108   \n",
       "3399   3598         200  2021-01-01                    team    6864.543108   \n",
       "\n",
       "      expansion_arr  rep_id  year  quarter  \n",
       "0               0.0       1  2017        1  \n",
       "1               0.0       1  2017        2  \n",
       "2               0.0       1  2017        3  \n",
       "3               0.0       1  2017        4  \n",
       "4               0.0       1  2018        1  \n",
       "...             ...     ...   ...      ...  \n",
       "3395            0.0      10  2020        1  \n",
       "3396            0.0      10  2020        2  \n",
       "3397            0.0      10  2020        3  \n",
       "3398            0.0      10  2020        4  \n",
       "3399            0.0      10  2021        1  \n",
       "\n",
       "[3400 rows x 9 columns]"
      ]
     },
     "execution_count": 305,
     "metadata": {},
     "output_type": "execute_result"
    }
   ],
   "source": [
    "account_acct_assgn_train.reset_index()"
   ]
  },
  {
   "cell_type": "markdown",
   "metadata": {},
   "source": [
    "Some descriptive analysis of our representative-account table \n",
    "For now to get some visuals and know our data  \n",
    "First check in both data sets for missing or Nan values and also know their variables data types"
   ]
  },
  {
   "cell_type": "code",
   "execution_count": 307,
   "metadata": {},
   "outputs": [
    {
     "data": {
      "text/plain": [
       "account_id                   int64\n",
       "Date                        object\n",
       "start_subscription_type     object\n",
       "start_arr                  float64\n",
       "expansion_arr              float64\n",
       "rep_id                       int64\n",
       "year                         int64\n",
       "quarter                      int64\n",
       "dtype: object"
      ]
     },
     "execution_count": 307,
     "metadata": {},
     "output_type": "execute_result"
    }
   ],
   "source": [
    "account_acct_assgn_train.dtypes"
   ]
  },
  {
   "cell_type": "code",
   "execution_count": 308,
   "metadata": {},
   "outputs": [
    {
     "data": {
      "text/plain": [
       "False"
      ]
     },
     "execution_count": 308,
     "metadata": {},
     "output_type": "execute_result"
    }
   ],
   "source": [
    "account_acct_assgn_train.isnull().values.any()"
   ]
  },
  {
   "cell_type": "code",
   "execution_count": 309,
   "metadata": {},
   "outputs": [
    {
     "data": {
      "text/plain": [
       "account_id                 0\n",
       "Date                       0\n",
       "start_subscription_type    0\n",
       "start_arr                  0\n",
       "expansion_arr              0\n",
       "rep_id                     0\n",
       "year                       0\n",
       "quarter                    0\n",
       "dtype: int64"
      ]
     },
     "execution_count": 309,
     "metadata": {},
     "output_type": "execute_result"
    }
   ],
   "source": [
    "account_acct_assgn_train.isnull().sum()"
   ]
  },
  {
   "cell_type": "code",
   "execution_count": 310,
   "metadata": {},
   "outputs": [
    {
     "data": {
      "text/plain": [
       "account_id                   0\n",
       "Date                         0\n",
       "start_subscription_type      0\n",
       "start_arr                    0\n",
       "expansion_arr              200\n",
       "rep_id                       0\n",
       "year                         0\n",
       "quarter                      0\n",
       "dtype: int64"
      ]
     },
     "execution_count": 310,
     "metadata": {},
     "output_type": "execute_result"
    }
   ],
   "source": [
    "account_acct_assgn_tst.isnull().sum()"
   ]
  },
  {
   "cell_type": "code",
   "execution_count": 311,
   "metadata": {},
   "outputs": [],
   "source": [
    "account_acct_assgn_tst=account_acct_assgn_tst.replace(np.nan, 0)"
   ]
  },
  {
   "cell_type": "markdown",
   "metadata": {},
   "source": [
    "Lets draw some graph to know our data and its variables : visual representation of data is easy to know about data"
   ]
  },
  {
   "cell_type": "code",
   "execution_count": 312,
   "metadata": {},
   "outputs": [],
   "source": [
    "subs_count=account_acct_assgn_train['start_subscription_type'].value_counts()"
   ]
  },
  {
   "cell_type": "code",
   "execution_count": 313,
   "metadata": {},
   "outputs": [
    {
     "data": {
      "image/png": "[encoded data removed]",
      "text/plain": [
       "<Figure size 432x288 with 1 Axes>"
      ]
     },
     "metadata": {},
     "output_type": "display_data"
    }
   ],
   "source": [
    "sns.set(style=\"darkgrid\")\n",
    "sns.barplot(subs_count.values,subs_count.index, alpha=0.9)\n",
    "plt.title('Occurance of Subscription Type')\n",
    "plt.ylabel('Occurrences', fontsize=12)\n",
    "plt.xlabel('Subscription Type', fontsize=12)\n",
    "plt.show()"
   ]
  },
  {
   "cell_type": "code",
   "execution_count": 314,
   "metadata": {},
   "outputs": [],
   "source": [
    "# most number of enterprise accounts "
   ]
  },
  {
   "cell_type": "code",
   "execution_count": 315,
   "metadata": {},
   "outputs": [
    {
     "data": {
      "text/html": [
       "<div>\n",
       "<style scoped>\n",
       "    .dataframe tbody tr th:only-of-type {\n",
       "        vertical-align: middle;\n",
       "    }\n",
       "\n",
       "    .dataframe tbody tr th {\n",
       "        vertical-align: top;\n",
       "    }\n",
       "\n",
       "    .dataframe thead th {\n",
       "        text-align: right;\n",
       "    }\n",
       "</style>\n",
       "<table border=\"1\" class=\"dataframe\">\n",
       "  <thead>\n",
       "    <tr style=\"text-align: right;\">\n",
       "      <th></th>\n",
       "      <th>start_subscription_type</th>\n",
       "      <th>expansion_arr</th>\n",
       "    </tr>\n",
       "  </thead>\n",
       "  <tbody>\n",
       "    <tr>\n",
       "      <th>0</th>\n",
       "      <td>enterprise</td>\n",
       "      <td>8989848.45</td>\n",
       "    </tr>\n",
       "    <tr>\n",
       "      <th>1</th>\n",
       "      <td>individual</td>\n",
       "      <td>10100.00</td>\n",
       "    </tr>\n",
       "    <tr>\n",
       "      <th>2</th>\n",
       "      <td>team</td>\n",
       "      <td>491041.57</td>\n",
       "    </tr>\n",
       "  </tbody>\n",
       "</table>\n",
       "</div>"
      ],
      "text/plain": [
       "  start_subscription_type expansion_arr\n",
       "0              enterprise    8989848.45\n",
       "1              individual      10100.00\n",
       "2                    team     491041.57"
      ]
     },
     "execution_count": 315,
     "metadata": {},
     "output_type": "execute_result"
    }
   ],
   "source": [
    "# lets observe subscription wise arr \n",
    "sub_arr=account_acct_assgn_train.groupby([\"start_subscription_type\"]).agg({'expansion_arr':'sum'}).reset_index()\n",
    "sub_arr['expansion_arr'] = sub_arr['expansion_arr'].apply(lambda x: '{:.2f}'.format(x)) # formatting values to decimal\n",
    "sub_arr\n"
   ]
  },
  {
   "cell_type": "markdown",
   "metadata": {},
   "source": [
    "mostly enterprise is high arr in comparision to individual and team\n",
    "this can be due to enterprise being highly priced "
   ]
  },
  {
   "cell_type": "code",
   "execution_count": 317,
   "metadata": {},
   "outputs": [],
   "source": [
    "# plot quater wise expansion_arr\n",
    "account_acct_assgn_train_2017 = account_acct_assgn_train.loc[account_acct_assgn_train['year']==2017].groupby(['rep_id']).agg({'expansion_arr': ['mean', 'median']})\n",
    "account_acct_assgn_train_2018 = account_acct_assgn_train.loc[account_acct_assgn_train['year']==2018].groupby(['rep_id']).agg({'expansion_arr': ['mean', 'median']})\n",
    "account_acct_assgn_train_2019 = account_acct_assgn_train.loc[account_acct_assgn_train['year']==2019].groupby(['rep_id']).agg({'expansion_arr': ['mean', 'median']})\n",
    "account_acct_assgn_train_2020 = account_acct_assgn_train.loc[account_acct_assgn_train['year']==2020].groupby(['rep_id']).agg({'expansion_arr': ['mean', 'median']})\n"
   ]
  },
  {
   "cell_type": "code",
   "execution_count": 318,
   "metadata": {},
   "outputs": [
    {
     "data": {
      "image/png": "[encoded data removed]",
      "text/plain": [
       "<Figure size 1440x504 with 1 Axes>"
      ]
     },
     "metadata": {},
     "output_type": "display_data"
    }
   ],
   "source": [
    "plt.figure(figsize=(20, 7))\n",
    "sns.lineplot(account_acct_assgn_train_2017['expansion_arr']['mean'].index, account_acct_assgn_train_2017['expansion_arr']['mean'].values)\n",
    "sns.lineplot(account_acct_assgn_train_2018['expansion_arr']['mean'].index, account_acct_assgn_train_2018['expansion_arr']['mean'].values)\n",
    "sns.lineplot(account_acct_assgn_train_2019['expansion_arr']['mean'].index, account_acct_assgn_train_2019['expansion_arr']['mean'].values)\n",
    "sns.lineplot(account_acct_assgn_train_2020['expansion_arr']['mean'].index, account_acct_assgn_train_2020['expansion_arr']['mean'].values)\n",
    "\n",
    "plt.xticks(np.arange(1, 11, step=1))\n",
    "plt.legend(['2017', '2018', '2019','2020'])\n",
    "\n",
    "plt.ylabel('Exp_arr', fontsize=16)\n",
    "plt.xlabel('Rep', fontsize=16)\n",
    "plt.show()"
   ]
  },
  {
   "cell_type": "markdown",
   "metadata": {},
   "source": [
    "2020 was good year for reps and also no rep performs consistently well for all 4 years, yes reps 1, 3 and 7 has \n",
    "less variable performance (stablilty in expansion_arr) than others yet its evident no rep consistently performing well. "
   ]
  },
  {
   "cell_type": "code",
   "execution_count": 320,
   "metadata": {},
   "outputs": [],
   "source": [
    "# plot quater wise expansion_arr\n",
    "account_acct_assgn_train_q1 = account_acct_assgn_train.loc[account_acct_assgn_train['quarter']==1].groupby(['rep_id']).agg({'expansion_arr': ['mean', 'median']})\n",
    "account_acct_assgn_train_q2= account_acct_assgn_train.loc[account_acct_assgn_train['quarter']==2].groupby(['rep_id']).agg({'expansion_arr': ['mean', 'median']})\n",
    "account_acct_assgn_train_q3 = account_acct_assgn_train.loc[account_acct_assgn_train['quarter']==3].groupby(['rep_id']).agg({'expansion_arr': ['mean', 'median']})\n",
    "account_acct_assgn_train_q4 = account_acct_assgn_train.loc[account_acct_assgn_train['quarter']==4].groupby(['rep_id']).agg({'expansion_arr': ['mean', 'median']})\n"
   ]
  },
  {
   "cell_type": "code",
   "execution_count": 321,
   "metadata": {},
   "outputs": [
    {
     "data": {
      "image/png": "[encoded data removed]",
      "text/plain": [
       "<Figure size 1440x504 with 1 Axes>"
      ]
     },
     "metadata": {},
     "output_type": "display_data"
    }
   ],
   "source": [
    "plt.figure(figsize=(20, 7))\n",
    "sns.lineplot(account_acct_assgn_train_q1['expansion_arr']['mean'].index, account_acct_assgn_train_q1['expansion_arr']['mean'].values)\n",
    "sns.lineplot(account_acct_assgn_train_q2['expansion_arr']['mean'].index, account_acct_assgn_train_q2['expansion_arr']['mean'].values)\n",
    "sns.lineplot(account_acct_assgn_train_q3['expansion_arr']['mean'].index, account_acct_assgn_train_q3['expansion_arr']['mean'].values)\n",
    "sns.lineplot(account_acct_assgn_train_q4['expansion_arr']['mean'].index, account_acct_assgn_train_q4['expansion_arr']['mean'].values)\n",
    "\n",
    "plt.xticks(np.arange(1, 11, step=1))\n",
    "plt.legend(['Q1', 'Q2', 'Q3','Q4'])\n",
    "\n",
    "plt.ylabel('Exp_arr', fontsize=16)\n",
    "plt.xlabel('Rep', fontsize=16)\n",
    "plt.show()"
   ]
  },
  {
   "cell_type": "markdown",
   "metadata": {},
   "source": [
    "Quarter 2 is worst for every rep and quarter 4 is good among all."
   ]
  },
  {
   "cell_type": "code",
   "execution_count": 322,
   "metadata": {},
   "outputs": [],
   "source": [
    "quarter_anlysis=account_acct_assgn_train.groupby([\"quarter\"]).agg({'expansion_arr':'sum'}).reset_index().sort_values(by='quarter')"
   ]
  },
  {
   "cell_type": "code",
   "execution_count": 323,
   "metadata": {},
   "outputs": [],
   "source": [
    "# for graph purposes \n",
    "quarter_anlysis[\"quarter\"]= quarter_anlysis[\"quarter\"].astype(str)"
   ]
  },
  {
   "cell_type": "code",
   "execution_count": 324,
   "metadata": {},
   "outputs": [
    {
     "data": {
      "text/plain": [
       "<matplotlib.axes._subplots.AxesSubplot at 0x7f96213c0890>"
      ]
     },
     "execution_count": 324,
     "metadata": {},
     "output_type": "execute_result"
    },
    {
     "data": {
      "image/png": "[encoded data removed]",
      "text/plain": [
       "<Figure size 432x288 with 1 Axes>"
      ]
     },
     "metadata": {},
     "output_type": "display_data"
    }
   ],
   "source": [
    "sns.barplot(x=\"quarter\",y=\"expansion_arr\",data=quarter_anlysis)\n",
    "# overall for all reps quarter 4 is "
   ]
  },
  {
   "cell_type": "markdown",
   "metadata": {},
   "source": [
    "Lets start to model now"
   ]
  },
  {
   "cell_type": "code",
   "execution_count": 325,
   "metadata": {},
   "outputs": [],
   "source": [
    "# now we dont need date variable in both of our train and test\n",
    "account_acct_assgn_train=account_acct_assgn_train.drop(['Date'],axis=1)\n",
    "account_acct_assgn_tst=account_acct_assgn_tst.drop(['Date'],axis=1)"
   ]
  },
  {
   "cell_type": "code",
   "execution_count": 326,
   "metadata": {},
   "outputs": [],
   "source": [
    "account_acct_assgn_train_grp = account_acct_assgn_train.groupby([\"rep_id\", \"quarter\", \"year\",\n",
    "     \"start_subscription_type\"]).agg({'expansion_arr':'sum'}).reset_index().sort_values(by='rep_id')"
   ]
  },
  {
   "cell_type": "code",
   "execution_count": 327,
   "metadata": {},
   "outputs": [],
   "source": [
    "account_acct_assgn_tst_grp = account_acct_assgn_tst.groupby([\"rep_id\", \"quarter\", \"year\",\n",
    "     \"start_subscription_type\"]).agg({'expansion_arr':'sum'}).reset_index().sort_values(by='rep_id')"
   ]
  },
  {
   "cell_type": "code",
   "execution_count": 328,
   "metadata": {},
   "outputs": [
    {
     "data": {
      "text/html": [
       "<div>\n",
       "<style scoped>\n",
       "    .dataframe tbody tr th:only-of-type {\n",
       "        vertical-align: middle;\n",
       "    }\n",
       "\n",
       "    .dataframe tbody tr th {\n",
       "        vertical-align: top;\n",
       "    }\n",
       "\n",
       "    .dataframe thead th {\n",
       "        text-align: right;\n",
       "    }\n",
       "</style>\n",
       "<table border=\"1\" class=\"dataframe\">\n",
       "  <thead>\n",
       "    <tr style=\"text-align: right;\">\n",
       "      <th></th>\n",
       "      <th>rep_id</th>\n",
       "      <th>quarter</th>\n",
       "      <th>year</th>\n",
       "      <th>start_subscription_type</th>\n",
       "      <th>expansion_arr</th>\n",
       "    </tr>\n",
       "  </thead>\n",
       "  <tbody>\n",
       "    <tr>\n",
       "      <th>0</th>\n",
       "      <td>1</td>\n",
       "      <td>1</td>\n",
       "      <td>2017</td>\n",
       "      <td>enterprise</td>\n",
       "      <td>0.000000</td>\n",
       "    </tr>\n",
       "    <tr>\n",
       "      <th>28</th>\n",
       "      <td>1</td>\n",
       "      <td>3</td>\n",
       "      <td>2017</td>\n",
       "      <td>individual</td>\n",
       "      <td>300.000000</td>\n",
       "    </tr>\n",
       "    <tr>\n",
       "      <th>29</th>\n",
       "      <td>1</td>\n",
       "      <td>3</td>\n",
       "      <td>2017</td>\n",
       "      <td>team</td>\n",
       "      <td>106.735629</td>\n",
       "    </tr>\n",
       "    <tr>\n",
       "      <th>30</th>\n",
       "      <td>1</td>\n",
       "      <td>3</td>\n",
       "      <td>2018</td>\n",
       "      <td>enterprise</td>\n",
       "      <td>156066.400535</td>\n",
       "    </tr>\n",
       "    <tr>\n",
       "      <th>31</th>\n",
       "      <td>1</td>\n",
       "      <td>3</td>\n",
       "      <td>2018</td>\n",
       "      <td>individual</td>\n",
       "      <td>0.000000</td>\n",
       "    </tr>\n",
       "    <tr>\n",
       "      <th>32</th>\n",
       "      <td>1</td>\n",
       "      <td>3</td>\n",
       "      <td>2018</td>\n",
       "      <td>team</td>\n",
       "      <td>3048.029866</td>\n",
       "    </tr>\n",
       "    <tr>\n",
       "      <th>33</th>\n",
       "      <td>1</td>\n",
       "      <td>3</td>\n",
       "      <td>2019</td>\n",
       "      <td>enterprise</td>\n",
       "      <td>0.000000</td>\n",
       "    </tr>\n",
       "    <tr>\n",
       "      <th>34</th>\n",
       "      <td>1</td>\n",
       "      <td>3</td>\n",
       "      <td>2019</td>\n",
       "      <td>individual</td>\n",
       "      <td>200.000000</td>\n",
       "    </tr>\n",
       "    <tr>\n",
       "      <th>35</th>\n",
       "      <td>1</td>\n",
       "      <td>3</td>\n",
       "      <td>2019</td>\n",
       "      <td>team</td>\n",
       "      <td>3660.802022</td>\n",
       "    </tr>\n",
       "    <tr>\n",
       "      <th>36</th>\n",
       "      <td>1</td>\n",
       "      <td>3</td>\n",
       "      <td>2020</td>\n",
       "      <td>enterprise</td>\n",
       "      <td>25540.895726</td>\n",
       "    </tr>\n",
       "    <tr>\n",
       "      <th>38</th>\n",
       "      <td>1</td>\n",
       "      <td>3</td>\n",
       "      <td>2020</td>\n",
       "      <td>team</td>\n",
       "      <td>0.000000</td>\n",
       "    </tr>\n",
       "    <tr>\n",
       "      <th>27</th>\n",
       "      <td>1</td>\n",
       "      <td>3</td>\n",
       "      <td>2017</td>\n",
       "      <td>enterprise</td>\n",
       "      <td>64095.917192</td>\n",
       "    </tr>\n",
       "    <tr>\n",
       "      <th>39</th>\n",
       "      <td>1</td>\n",
       "      <td>4</td>\n",
       "      <td>2017</td>\n",
       "      <td>enterprise</td>\n",
       "      <td>167277.872214</td>\n",
       "    </tr>\n",
       "    <tr>\n",
       "      <th>41</th>\n",
       "      <td>1</td>\n",
       "      <td>4</td>\n",
       "      <td>2017</td>\n",
       "      <td>team</td>\n",
       "      <td>7510.041924</td>\n",
       "    </tr>\n",
       "    <tr>\n",
       "      <th>42</th>\n",
       "      <td>1</td>\n",
       "      <td>4</td>\n",
       "      <td>2018</td>\n",
       "      <td>enterprise</td>\n",
       "      <td>118000.112188</td>\n",
       "    </tr>\n",
       "  </tbody>\n",
       "</table>\n",
       "</div>"
      ],
      "text/plain": [
       "    rep_id  quarter  year start_subscription_type  expansion_arr\n",
       "0        1        1  2017              enterprise       0.000000\n",
       "28       1        3  2017              individual     300.000000\n",
       "29       1        3  2017                    team     106.735629\n",
       "30       1        3  2018              enterprise  156066.400535\n",
       "31       1        3  2018              individual       0.000000\n",
       "32       1        3  2018                    team    3048.029866\n",
       "33       1        3  2019              enterprise       0.000000\n",
       "34       1        3  2019              individual     200.000000\n",
       "35       1        3  2019                    team    3660.802022\n",
       "36       1        3  2020              enterprise   25540.895726\n",
       "38       1        3  2020                    team       0.000000\n",
       "27       1        3  2017              enterprise   64095.917192\n",
       "39       1        4  2017              enterprise  167277.872214\n",
       "41       1        4  2017                    team    7510.041924\n",
       "42       1        4  2018              enterprise  118000.112188"
      ]
     },
     "execution_count": 328,
     "metadata": {},
     "output_type": "execute_result"
    }
   ],
   "source": [
    "account_acct_assgn_train_grp.head(15)"
   ]
  },
  {
   "cell_type": "code",
   "execution_count": 329,
   "metadata": {},
   "outputs": [
    {
     "data": {
      "text/html": [
       "<div>\n",
       "<style scoped>\n",
       "    .dataframe tbody tr th:only-of-type {\n",
       "        vertical-align: middle;\n",
       "    }\n",
       "\n",
       "    .dataframe tbody tr th {\n",
       "        vertical-align: top;\n",
       "    }\n",
       "\n",
       "    .dataframe thead th {\n",
       "        text-align: right;\n",
       "    }\n",
       "</style>\n",
       "<table border=\"1\" class=\"dataframe\">\n",
       "  <thead>\n",
       "    <tr style=\"text-align: right;\">\n",
       "      <th></th>\n",
       "      <th>rep_id</th>\n",
       "      <th>quarter</th>\n",
       "      <th>year</th>\n",
       "      <th>start_subscription_type</th>\n",
       "      <th>expansion_arr</th>\n",
       "    </tr>\n",
       "  </thead>\n",
       "  <tbody>\n",
       "    <tr>\n",
       "      <th>0</th>\n",
       "      <td>1</td>\n",
       "      <td>2</td>\n",
       "      <td>2021</td>\n",
       "      <td>enterprise</td>\n",
       "      <td>0.0</td>\n",
       "    </tr>\n",
       "    <tr>\n",
       "      <th>1</th>\n",
       "      <td>1</td>\n",
       "      <td>2</td>\n",
       "      <td>2021</td>\n",
       "      <td>individual</td>\n",
       "      <td>0.0</td>\n",
       "    </tr>\n",
       "    <tr>\n",
       "      <th>2</th>\n",
       "      <td>1</td>\n",
       "      <td>2</td>\n",
       "      <td>2021</td>\n",
       "      <td>team</td>\n",
       "      <td>0.0</td>\n",
       "    </tr>\n",
       "    <tr>\n",
       "      <th>3</th>\n",
       "      <td>2</td>\n",
       "      <td>2</td>\n",
       "      <td>2021</td>\n",
       "      <td>enterprise</td>\n",
       "      <td>0.0</td>\n",
       "    </tr>\n",
       "  </tbody>\n",
       "</table>\n",
       "</div>"
      ],
      "text/plain": [
       "   rep_id  quarter  year start_subscription_type  expansion_arr\n",
       "0       1        2  2021              enterprise            0.0\n",
       "1       1        2  2021              individual            0.0\n",
       "2       1        2  2021                    team            0.0\n",
       "3       2        2  2021              enterprise            0.0"
      ]
     },
     "execution_count": 329,
     "metadata": {},
     "output_type": "execute_result"
    }
   ],
   "source": [
    "account_acct_assgn_tst_grp.head(4)"
   ]
  },
  {
   "cell_type": "code",
   "execution_count": 267,
   "metadata": {},
   "outputs": [],
   "source": [
    "# we if need to get objective goals which are equitable, \n",
    "# as for rep level goals for reps all their subs accounts will be taken to define goal for q2 2021"
   ]
  },
  {
   "cell_type": "code",
   "execution_count": 270,
   "metadata": {},
   "outputs": [],
   "source": [
    "## convert the subs type levels into code 0,1,2"
   ]
  },
  {
   "cell_type": "code",
   "execution_count": 330,
   "metadata": {},
   "outputs": [],
   "source": [
    "account_acct_assgn_train_grp[['start_subscription_type']] = account_acct_assgn_train_grp[['start_subscription_type']].apply(lambda col:pd.Categorical(col).codes)"
   ]
  },
  {
   "cell_type": "code",
   "execution_count": 331,
   "metadata": {},
   "outputs": [],
   "source": [
    "account_acct_assgn_tst_grp[['start_subscription_type']] = account_acct_assgn_tst_grp[['start_subscription_type']].apply(lambda col:pd.Categorical(col).codes)"
   ]
  },
  {
   "cell_type": "code",
   "execution_count": 332,
   "metadata": {},
   "outputs": [],
   "source": [
    "cols = account_acct_assgn_train_grp.columns\n",
    "cols1= account_acct_assgn_tst_grp.columns"
   ]
  },
  {
   "cell_type": "code",
   "execution_count": 333,
   "metadata": {},
   "outputs": [],
   "source": [
    "account_acct_assgn_train_grp[cols] = account_acct_assgn_train_grp[cols].apply(pd.to_numeric, errors='coerce')"
   ]
  },
  {
   "cell_type": "code",
   "execution_count": 334,
   "metadata": {},
   "outputs": [],
   "source": [
    "account_acct_assgn_tst_grp[cols1] = account_acct_assgn_tst_grp[cols1].apply(pd.to_numeric, errors='coerce')"
   ]
  },
  {
   "cell_type": "code",
   "execution_count": 335,
   "metadata": {},
   "outputs": [],
   "source": [
    "y_train = account_acct_assgn_train_grp.loc[:, ['expansion_arr']]\n",
    "x_train = account_acct_assgn_train_grp.drop(['expansion_arr'], axis=1)"
   ]
  },
  {
   "cell_type": "code",
   "execution_count": 336,
   "metadata": {},
   "outputs": [],
   "source": [
    "y_test = account_acct_assgn_tst_grp.loc[:, ['expansion_arr']]\n",
    "x_test = account_acct_assgn_tst_grp.drop(['expansion_arr'], axis=1)"
   ]
  },
  {
   "cell_type": "code",
   "execution_count": 337,
   "metadata": {},
   "outputs": [
    {
     "name": "stderr",
     "output_type": "stream",
     "text": [
      "/Users/shaivya/opt/anaconda3/lib/python3.7/site-packages/sklearn/pipeline.py:354: DataConversionWarning: A column-vector y was passed when a 1d array was expected. Please change the shape of y to (n_samples,), for example using ravel().\n",
      "  self._final_estimator.fit(Xt, y, **fit_params)\n"
     ]
    }
   ],
   "source": [
    "clf = RandomForestRegressor(random_state=0)\n",
    "\n",
    "pipe = Pipeline(steps=[('clf', clf)])\n",
    "\n",
    "param_grid_rf = [ {\n",
    "                'clf':[RandomForestRegressor()],\n",
    "                'clf__n_estimators': [140,150,160],\n",
    "                'clf__max_depth': [25,30,35],\n",
    "                'clf__max_features': ['auto',5,6]\n",
    "                }\n",
    "              ]\n",
    "\n",
    "gscv_rf1 = GridSearchCV(pipe, param_grid_rf, cv = 3, n_jobs=-1)\n",
    "model_rf1 = gscv_rf1.fit(x_train, y_train)"
   ]
  },
  {
   "cell_type": "code",
   "execution_count": 338,
   "metadata": {},
   "outputs": [],
   "source": [
    "y_pred_rf = gscv_rf1.best_estimator_.predict(x_test)"
   ]
  },
  {
   "cell_type": "code",
   "execution_count": 339,
   "metadata": {},
   "outputs": [],
   "source": [
    "# RMSE and rsquared \n",
    "#print(np.sqrt(mean_squared_error(y_test,y_pred_rf)))"
   ]
  },
  {
   "cell_type": "code",
   "execution_count": 340,
   "metadata": {},
   "outputs": [
    {
     "data": {
      "image/png": "[encoded data removed]",
      "text/plain": [
       "<Figure size 360x216 with 1 Axes>"
      ]
     },
     "metadata": {},
     "output_type": "display_data"
    }
   ],
   "source": [
    "plt.rcParams[\"figure.figsize\"] = (5,3)\n",
    "\n",
    "importances = gscv_rf1.best_estimator_._final_estimator.feature_importances_\n",
    "\n",
    "attributes = list(x_train.columns)\n",
    "indices = np.argsort(importances)\n",
    "attributes_rank = []\n",
    "for i in indices:\n",
    "    attributes_rank.append(attributes[i])\n",
    "plt.title('Feature Importances')\n",
    "plt.tight_layout()\n",
    "plt.barh(range(len(indices)), importances[indices], color='gray', align='center')\n",
    "plt.yticks(range(len(indices)), attributes_rank, fontsize=5)\n",
    "plt.xlabel('Relative Importance',fontsize=5)\n",
    "plt.xticks(color='k', size=15)\n",
    "plt.yticks(color='k', size=15)\n",
    "plt.xlim([0.0, 0.25])\n",
    "plt.show()"
   ]
  },
  {
   "cell_type": "code",
   "execution_count": 341,
   "metadata": {},
   "outputs": [
    {
     "data": {
      "text/html": [
       "<div>\n",
       "<style scoped>\n",
       "    .dataframe tbody tr th:only-of-type {\n",
       "        vertical-align: middle;\n",
       "    }\n",
       "\n",
       "    .dataframe tbody tr th {\n",
       "        vertical-align: top;\n",
       "    }\n",
       "\n",
       "    .dataframe thead th {\n",
       "        text-align: right;\n",
       "    }\n",
       "</style>\n",
       "<table border=\"1\" class=\"dataframe\">\n",
       "  <thead>\n",
       "    <tr style=\"text-align: right;\">\n",
       "      <th></th>\n",
       "      <th>rep_id</th>\n",
       "      <th>quarter</th>\n",
       "      <th>year</th>\n",
       "      <th>start_subscription_type</th>\n",
       "      <th>expansion_arr</th>\n",
       "    </tr>\n",
       "  </thead>\n",
       "  <tbody>\n",
       "    <tr>\n",
       "      <th>0</th>\n",
       "      <td>1</td>\n",
       "      <td>2</td>\n",
       "      <td>2021</td>\n",
       "      <td>0</td>\n",
       "      <td>67770.821059</td>\n",
       "    </tr>\n",
       "    <tr>\n",
       "      <th>1</th>\n",
       "      <td>1</td>\n",
       "      <td>2</td>\n",
       "      <td>2021</td>\n",
       "      <td>1</td>\n",
       "      <td>142.857143</td>\n",
       "    </tr>\n",
       "    <tr>\n",
       "      <th>2</th>\n",
       "      <td>1</td>\n",
       "      <td>2</td>\n",
       "      <td>2021</td>\n",
       "      <td>2</td>\n",
       "      <td>2206.763264</td>\n",
       "    </tr>\n",
       "    <tr>\n",
       "      <th>3</th>\n",
       "      <td>2</td>\n",
       "      <td>2</td>\n",
       "      <td>2021</td>\n",
       "      <td>0</td>\n",
       "      <td>89438.404980</td>\n",
       "    </tr>\n",
       "    <tr>\n",
       "      <th>4</th>\n",
       "      <td>2</td>\n",
       "      <td>2</td>\n",
       "      <td>2021</td>\n",
       "      <td>1</td>\n",
       "      <td>41.428571</td>\n",
       "    </tr>\n",
       "    <tr>\n",
       "      <th>5</th>\n",
       "      <td>2</td>\n",
       "      <td>2</td>\n",
       "      <td>2021</td>\n",
       "      <td>2</td>\n",
       "      <td>5318.208305</td>\n",
       "    </tr>\n",
       "    <tr>\n",
       "      <th>6</th>\n",
       "      <td>3</td>\n",
       "      <td>2</td>\n",
       "      <td>2021</td>\n",
       "      <td>0</td>\n",
       "      <td>35592.461024</td>\n",
       "    </tr>\n",
       "    <tr>\n",
       "      <th>7</th>\n",
       "      <td>3</td>\n",
       "      <td>2</td>\n",
       "      <td>2021</td>\n",
       "      <td>1</td>\n",
       "      <td>288.571429</td>\n",
       "    </tr>\n",
       "    <tr>\n",
       "      <th>8</th>\n",
       "      <td>3</td>\n",
       "      <td>2</td>\n",
       "      <td>2021</td>\n",
       "      <td>2</td>\n",
       "      <td>2599.033826</td>\n",
       "    </tr>\n",
       "    <tr>\n",
       "      <th>9</th>\n",
       "      <td>4</td>\n",
       "      <td>2</td>\n",
       "      <td>2021</td>\n",
       "      <td>0</td>\n",
       "      <td>61692.029912</td>\n",
       "    </tr>\n",
       "  </tbody>\n",
       "</table>\n",
       "</div>"
      ],
      "text/plain": [
       "   rep_id  quarter  year  start_subscription_type  expansion_arr\n",
       "0       1        2  2021                        0   67770.821059\n",
       "1       1        2  2021                        1     142.857143\n",
       "2       1        2  2021                        2    2206.763264\n",
       "3       2        2  2021                        0   89438.404980\n",
       "4       2        2  2021                        1      41.428571\n",
       "5       2        2  2021                        2    5318.208305\n",
       "6       3        2  2021                        0   35592.461024\n",
       "7       3        2  2021                        1     288.571429\n",
       "8       3        2  2021                        2    2599.033826\n",
       "9       4        2  2021                        0   61692.029912"
      ]
     },
     "execution_count": 341,
     "metadata": {},
     "output_type": "execute_result"
    }
   ],
   "source": [
    "account_acct_assgn_tst_grp = account_acct_assgn_tst_grp.sort_values(['rep_id'], ascending=[True])\n",
    "account_acct_assgn_tst_grp['expansion_arr'] = y_pred_rf\n",
    "account_acct_assgn_tst_grp.head(10)"
   ]
  },
  {
   "cell_type": "code",
   "execution_count": 342,
   "metadata": {},
   "outputs": [],
   "source": [
    "# rep levels goal can de decided like this and the objective will be to make it or beat this!!!"
   ]
  },
  {
   "cell_type": "code",
   "execution_count": 381,
   "metadata": {},
   "outputs": [],
   "source": [
    "eachreptr=account_acct_assgn_tst_grp.groupby([\"rep_id\"]).agg({'expansion_arr':'mean'}).reset_index().sort_values(by='rep_id')"
   ]
  },
  {
   "cell_type": "code",
   "execution_count": 382,
   "metadata": {},
   "outputs": [
    {
     "data": {
      "text/html": [
       "<div>\n",
       "<style scoped>\n",
       "    .dataframe tbody tr th:only-of-type {\n",
       "        vertical-align: middle;\n",
       "    }\n",
       "\n",
       "    .dataframe tbody tr th {\n",
       "        vertical-align: top;\n",
       "    }\n",
       "\n",
       "    .dataframe thead th {\n",
       "        text-align: right;\n",
       "    }\n",
       "</style>\n",
       "<table border=\"1\" class=\"dataframe\">\n",
       "  <thead>\n",
       "    <tr style=\"text-align: right;\">\n",
       "      <th></th>\n",
       "      <th>rep_id</th>\n",
       "      <th>expansion_arr</th>\n",
       "    </tr>\n",
       "  </thead>\n",
       "  <tbody>\n",
       "    <tr>\n",
       "      <th>0</th>\n",
       "      <td>1</td>\n",
       "      <td>23373.480488</td>\n",
       "    </tr>\n",
       "    <tr>\n",
       "      <th>1</th>\n",
       "      <td>2</td>\n",
       "      <td>31599.347286</td>\n",
       "    </tr>\n",
       "    <tr>\n",
       "      <th>2</th>\n",
       "      <td>3</td>\n",
       "      <td>12826.688759</td>\n",
       "    </tr>\n",
       "    <tr>\n",
       "      <th>3</th>\n",
       "      <td>4</td>\n",
       "      <td>21129.164882</td>\n",
       "    </tr>\n",
       "    <tr>\n",
       "      <th>4</th>\n",
       "      <td>5</td>\n",
       "      <td>10708.624798</td>\n",
       "    </tr>\n",
       "    <tr>\n",
       "      <th>5</th>\n",
       "      <td>6</td>\n",
       "      <td>54895.337068</td>\n",
       "    </tr>\n",
       "    <tr>\n",
       "      <th>6</th>\n",
       "      <td>7</td>\n",
       "      <td>65191.708499</td>\n",
       "    </tr>\n",
       "    <tr>\n",
       "      <th>7</th>\n",
       "      <td>8</td>\n",
       "      <td>56855.322693</td>\n",
       "    </tr>\n",
       "    <tr>\n",
       "      <th>8</th>\n",
       "      <td>9</td>\n",
       "      <td>48253.589807</td>\n",
       "    </tr>\n",
       "    <tr>\n",
       "      <th>9</th>\n",
       "      <td>10</td>\n",
       "      <td>23830.812929</td>\n",
       "    </tr>\n",
       "  </tbody>\n",
       "</table>\n",
       "</div>"
      ],
      "text/plain": [
       "   rep_id  expansion_arr\n",
       "0       1   23373.480488\n",
       "1       2   31599.347286\n",
       "2       3   12826.688759\n",
       "3       4   21129.164882\n",
       "4       5   10708.624798\n",
       "5       6   54895.337068\n",
       "6       7   65191.708499\n",
       "7       8   56855.322693\n",
       "8       9   48253.589807\n",
       "9      10   23830.812929"
      ]
     },
     "execution_count": 382,
     "metadata": {},
     "output_type": "execute_result"
    }
   ],
   "source": [
    "eachreptr"
   ]
  },
  {
   "cell_type": "markdown",
   "metadata": {},
   "source": [
    "We have now each rep goal for next quarter \n",
    "From this we can decide on a threshold values say (10,700=min value) arr in next quarter rep makes or beat it to get incentive\n",
    "(similar to saying if you get a 4 and above rating on scale of 5 you are eligible for bonus)"
   ]
  },
  {
   "cell_type": "code",
   "execution_count": null,
   "metadata": {},
   "outputs": [],
   "source": []
  },
  {
   "cell_type": "markdown",
   "metadata": {},
   "source": [
    "# Looking at Teams"
   ]
  },
  {
   "cell_type": "code",
   "execution_count": 113,
   "metadata": {},
   "outputs": [],
   "source": [
    "# make a lookup for representative and its team\n",
    "rep_teams=pd.merge(reps,teams,on='team_id',how='left')"
   ]
  },
  {
   "cell_type": "code",
   "execution_count": 114,
   "metadata": {},
   "outputs": [
    {
     "data": {
      "text/html": [
       "<div>\n",
       "<style scoped>\n",
       "    .dataframe tbody tr th:only-of-type {\n",
       "        vertical-align: middle;\n",
       "    }\n",
       "\n",
       "    .dataframe tbody tr th {\n",
       "        vertical-align: top;\n",
       "    }\n",
       "\n",
       "    .dataframe thead th {\n",
       "        text-align: right;\n",
       "    }\n",
       "</style>\n",
       "<table border=\"1\" class=\"dataframe\">\n",
       "  <thead>\n",
       "    <tr style=\"text-align: right;\">\n",
       "      <th></th>\n",
       "      <th>rep_id</th>\n",
       "      <th>rep_name</th>\n",
       "      <th>team_id</th>\n",
       "      <th>team_name</th>\n",
       "    </tr>\n",
       "  </thead>\n",
       "  <tbody>\n",
       "    <tr>\n",
       "      <th>0</th>\n",
       "      <td>1</td>\n",
       "      <td>Adam</td>\n",
       "      <td>1</td>\n",
       "      <td>West</td>\n",
       "    </tr>\n",
       "    <tr>\n",
       "      <th>1</th>\n",
       "      <td>2</td>\n",
       "      <td>Brittany</td>\n",
       "      <td>1</td>\n",
       "      <td>West</td>\n",
       "    </tr>\n",
       "    <tr>\n",
       "      <th>2</th>\n",
       "      <td>3</td>\n",
       "      <td>Carson</td>\n",
       "      <td>1</td>\n",
       "      <td>West</td>\n",
       "    </tr>\n",
       "    <tr>\n",
       "      <th>3</th>\n",
       "      <td>4</td>\n",
       "      <td>Danielle</td>\n",
       "      <td>1</td>\n",
       "      <td>West</td>\n",
       "    </tr>\n",
       "    <tr>\n",
       "      <th>4</th>\n",
       "      <td>5</td>\n",
       "      <td>Ethan</td>\n",
       "      <td>2</td>\n",
       "      <td>Central</td>\n",
       "    </tr>\n",
       "    <tr>\n",
       "      <th>5</th>\n",
       "      <td>6</td>\n",
       "      <td>Felicity</td>\n",
       "      <td>2</td>\n",
       "      <td>Central</td>\n",
       "    </tr>\n",
       "    <tr>\n",
       "      <th>6</th>\n",
       "      <td>7</td>\n",
       "      <td>Gregory</td>\n",
       "      <td>2</td>\n",
       "      <td>Central</td>\n",
       "    </tr>\n",
       "    <tr>\n",
       "      <th>7</th>\n",
       "      <td>8</td>\n",
       "      <td>Harriet</td>\n",
       "      <td>3</td>\n",
       "      <td>East</td>\n",
       "    </tr>\n",
       "    <tr>\n",
       "      <th>8</th>\n",
       "      <td>9</td>\n",
       "      <td>Isaac</td>\n",
       "      <td>3</td>\n",
       "      <td>East</td>\n",
       "    </tr>\n",
       "    <tr>\n",
       "      <th>9</th>\n",
       "      <td>10</td>\n",
       "      <td>Jacqueline</td>\n",
       "      <td>3</td>\n",
       "      <td>East</td>\n",
       "    </tr>\n",
       "  </tbody>\n",
       "</table>\n",
       "</div>"
      ],
      "text/plain": [
       "   rep_id    rep_name  team_id team_name\n",
       "0       1        Adam        1      West\n",
       "1       2    Brittany        1      West\n",
       "2       3      Carson        1      West\n",
       "3       4    Danielle        1      West\n",
       "4       5       Ethan        2   Central\n",
       "5       6    Felicity        2   Central\n",
       "6       7     Gregory        2   Central\n",
       "7       8     Harriet        3      East\n",
       "8       9       Isaac        3      East\n",
       "9      10  Jacqueline        3      East"
      ]
     },
     "execution_count": 114,
     "metadata": {},
     "output_type": "execute_result"
    }
   ],
   "source": [
    "rep_teams"
   ]
  },
  {
   "cell_type": "code",
   "execution_count": 115,
   "metadata": {},
   "outputs": [],
   "source": [
    "teamlvl=pd.merge(account_acct_assgn,rep_teams,on='rep_id',how='left')"
   ]
  },
  {
   "cell_type": "code",
   "execution_count": 116,
   "metadata": {},
   "outputs": [
    {
     "data": {
      "text/html": [
       "<div>\n",
       "<style scoped>\n",
       "    .dataframe tbody tr th:only-of-type {\n",
       "        vertical-align: middle;\n",
       "    }\n",
       "\n",
       "    .dataframe tbody tr th {\n",
       "        vertical-align: top;\n",
       "    }\n",
       "\n",
       "    .dataframe thead th {\n",
       "        text-align: right;\n",
       "    }\n",
       "</style>\n",
       "<table border=\"1\" class=\"dataframe\">\n",
       "  <thead>\n",
       "    <tr style=\"text-align: right;\">\n",
       "      <th></th>\n",
       "      <th>account_id</th>\n",
       "      <th>Date</th>\n",
       "      <th>start_subscription_type</th>\n",
       "      <th>start_arr</th>\n",
       "      <th>expansion_arr</th>\n",
       "      <th>rep_id</th>\n",
       "      <th>year</th>\n",
       "      <th>quarter</th>\n",
       "      <th>rep_name</th>\n",
       "      <th>team_id</th>\n",
       "      <th>team_name</th>\n",
       "    </tr>\n",
       "  </thead>\n",
       "  <tbody>\n",
       "    <tr>\n",
       "      <th>0</th>\n",
       "      <td>1</td>\n",
       "      <td>2017-01-01</td>\n",
       "      <td>team</td>\n",
       "      <td>8172.226700</td>\n",
       "      <td>0.0</td>\n",
       "      <td>1</td>\n",
       "      <td>2017</td>\n",
       "      <td>1</td>\n",
       "      <td>Adam</td>\n",
       "      <td>1</td>\n",
       "      <td>West</td>\n",
       "    </tr>\n",
       "    <tr>\n",
       "      <th>1</th>\n",
       "      <td>1</td>\n",
       "      <td>2017-04-01</td>\n",
       "      <td>team</td>\n",
       "      <td>8172.226700</td>\n",
       "      <td>0.0</td>\n",
       "      <td>1</td>\n",
       "      <td>2017</td>\n",
       "      <td>2</td>\n",
       "      <td>Adam</td>\n",
       "      <td>1</td>\n",
       "      <td>West</td>\n",
       "    </tr>\n",
       "    <tr>\n",
       "      <th>2</th>\n",
       "      <td>1</td>\n",
       "      <td>2017-07-01</td>\n",
       "      <td>team</td>\n",
       "      <td>8172.226700</td>\n",
       "      <td>0.0</td>\n",
       "      <td>1</td>\n",
       "      <td>2017</td>\n",
       "      <td>3</td>\n",
       "      <td>Adam</td>\n",
       "      <td>1</td>\n",
       "      <td>West</td>\n",
       "    </tr>\n",
       "    <tr>\n",
       "      <th>3</th>\n",
       "      <td>1</td>\n",
       "      <td>2017-10-01</td>\n",
       "      <td>team</td>\n",
       "      <td>8172.226700</td>\n",
       "      <td>0.0</td>\n",
       "      <td>1</td>\n",
       "      <td>2017</td>\n",
       "      <td>4</td>\n",
       "      <td>Adam</td>\n",
       "      <td>1</td>\n",
       "      <td>West</td>\n",
       "    </tr>\n",
       "    <tr>\n",
       "      <th>4</th>\n",
       "      <td>1</td>\n",
       "      <td>2018-01-01</td>\n",
       "      <td>team</td>\n",
       "      <td>8172.226700</td>\n",
       "      <td>0.0</td>\n",
       "      <td>1</td>\n",
       "      <td>2018</td>\n",
       "      <td>1</td>\n",
       "      <td>Adam</td>\n",
       "      <td>1</td>\n",
       "      <td>West</td>\n",
       "    </tr>\n",
       "    <tr>\n",
       "      <th>...</th>\n",
       "      <td>...</td>\n",
       "      <td>...</td>\n",
       "      <td>...</td>\n",
       "      <td>...</td>\n",
       "      <td>...</td>\n",
       "      <td>...</td>\n",
       "      <td>...</td>\n",
       "      <td>...</td>\n",
       "      <td>...</td>\n",
       "      <td>...</td>\n",
       "      <td>...</td>\n",
       "    </tr>\n",
       "    <tr>\n",
       "      <th>3595</th>\n",
       "      <td>200</td>\n",
       "      <td>2020-04-01</td>\n",
       "      <td>enterprise</td>\n",
       "      <td>231202.606738</td>\n",
       "      <td>0.0</td>\n",
       "      <td>10</td>\n",
       "      <td>2020</td>\n",
       "      <td>2</td>\n",
       "      <td>Jacqueline</td>\n",
       "      <td>3</td>\n",
       "      <td>East</td>\n",
       "    </tr>\n",
       "    <tr>\n",
       "      <th>3596</th>\n",
       "      <td>200</td>\n",
       "      <td>2020-07-01</td>\n",
       "      <td>team</td>\n",
       "      <td>231202.606738</td>\n",
       "      <td>0.0</td>\n",
       "      <td>10</td>\n",
       "      <td>2020</td>\n",
       "      <td>3</td>\n",
       "      <td>Jacqueline</td>\n",
       "      <td>3</td>\n",
       "      <td>East</td>\n",
       "    </tr>\n",
       "    <tr>\n",
       "      <th>3597</th>\n",
       "      <td>200</td>\n",
       "      <td>2020-10-01</td>\n",
       "      <td>team</td>\n",
       "      <td>6864.543108</td>\n",
       "      <td>0.0</td>\n",
       "      <td>10</td>\n",
       "      <td>2020</td>\n",
       "      <td>4</td>\n",
       "      <td>Jacqueline</td>\n",
       "      <td>3</td>\n",
       "      <td>East</td>\n",
       "    </tr>\n",
       "    <tr>\n",
       "      <th>3598</th>\n",
       "      <td>200</td>\n",
       "      <td>2021-01-01</td>\n",
       "      <td>team</td>\n",
       "      <td>6864.543108</td>\n",
       "      <td>0.0</td>\n",
       "      <td>10</td>\n",
       "      <td>2021</td>\n",
       "      <td>1</td>\n",
       "      <td>Jacqueline</td>\n",
       "      <td>3</td>\n",
       "      <td>East</td>\n",
       "    </tr>\n",
       "    <tr>\n",
       "      <th>3599</th>\n",
       "      <td>200</td>\n",
       "      <td>2021-04-01</td>\n",
       "      <td>team</td>\n",
       "      <td>6864.543108</td>\n",
       "      <td>NaN</td>\n",
       "      <td>10</td>\n",
       "      <td>2021</td>\n",
       "      <td>2</td>\n",
       "      <td>Jacqueline</td>\n",
       "      <td>3</td>\n",
       "      <td>East</td>\n",
       "    </tr>\n",
       "  </tbody>\n",
       "</table>\n",
       "<p>3600 rows × 11 columns</p>\n",
       "</div>"
      ],
      "text/plain": [
       "      account_id        Date start_subscription_type      start_arr  \\\n",
       "0              1  2017-01-01                    team    8172.226700   \n",
       "1              1  2017-04-01                    team    8172.226700   \n",
       "2              1  2017-07-01                    team    8172.226700   \n",
       "3              1  2017-10-01                    team    8172.226700   \n",
       "4              1  2018-01-01                    team    8172.226700   \n",
       "...          ...         ...                     ...            ...   \n",
       "3595         200  2020-04-01              enterprise  231202.606738   \n",
       "3596         200  2020-07-01                    team  231202.606738   \n",
       "3597         200  2020-10-01                    team    6864.543108   \n",
       "3598         200  2021-01-01                    team    6864.543108   \n",
       "3599         200  2021-04-01                    team    6864.543108   \n",
       "\n",
       "      expansion_arr  rep_id  year  quarter    rep_name  team_id team_name  \n",
       "0               0.0       1  2017        1        Adam        1      West  \n",
       "1               0.0       1  2017        2        Adam        1      West  \n",
       "2               0.0       1  2017        3        Adam        1      West  \n",
       "3               0.0       1  2017        4        Adam        1      West  \n",
       "4               0.0       1  2018        1        Adam        1      West  \n",
       "...             ...     ...   ...      ...         ...      ...       ...  \n",
       "3595            0.0      10  2020        2  Jacqueline        3      East  \n",
       "3596            0.0      10  2020        3  Jacqueline        3      East  \n",
       "3597            0.0      10  2020        4  Jacqueline        3      East  \n",
       "3598            0.0      10  2021        1  Jacqueline        3      East  \n",
       "3599            NaN      10  2021        2  Jacqueline        3      East  \n",
       "\n",
       "[3600 rows x 11 columns]"
      ]
     },
     "execution_count": 116,
     "metadata": {},
     "output_type": "execute_result"
    }
   ],
   "source": [
    "teamlvl"
   ]
  },
  {
   "cell_type": "code",
   "execution_count": 117,
   "metadata": {},
   "outputs": [],
   "source": [
    "teamlvl_train = teamlvl[(teamlvl['Date'] != \"2021-04-01\")]"
   ]
  },
  {
   "cell_type": "code",
   "execution_count": 118,
   "metadata": {},
   "outputs": [],
   "source": [
    "teamlvl_tst = teamlvl[(teamlvl['Date'] == \"2021-04-01\")]"
   ]
  },
  {
   "cell_type": "code",
   "execution_count": 119,
   "metadata": {},
   "outputs": [],
   "source": [
    "teamlvl_train=teamlvl_train.drop(['Date'],axis=1)\n",
    "teamlvl_tst=teamlvl_tst.drop(['Date'],axis=1)"
   ]
  },
  {
   "cell_type": "markdown",
   "metadata": {},
   "source": [
    "### Graphs"
   ]
  },
  {
   "cell_type": "code",
   "execution_count": 120,
   "metadata": {},
   "outputs": [],
   "source": [
    "teamlvl_train_q1 = teamlvl_train.loc[teamlvl_train['quarter']==1].groupby(['team_id']).agg({'expansion_arr': ['mean', 'median']})\n",
    "teamlvl_train_q2= teamlvl_train.loc[teamlvl_train['quarter']==2].groupby(['team_id']).agg({'expansion_arr': ['mean', 'median']})\n",
    "teamlvl_train_q3 = teamlvl_train.loc[teamlvl_train['quarter']==3].groupby(['team_id']).agg({'expansion_arr': ['mean', 'median']})\n",
    "teamlvl_train_q4 = teamlvl_train.loc[teamlvl_train['quarter']==4].groupby(['team_id']).agg({'expansion_arr': ['mean', 'median']})\n"
   ]
  },
  {
   "cell_type": "code",
   "execution_count": 121,
   "metadata": {},
   "outputs": [
    {
     "data": {
      "image/png": "[encoded data removed]",
      "text/plain": [
       "<Figure size 1440x504 with 1 Axes>"
      ]
     },
     "metadata": {},
     "output_type": "display_data"
    }
   ],
   "source": [
    "plt.figure(figsize=(20, 7))\n",
    "sns.lineplot(teamlvl_train_q1['expansion_arr']['mean'].index, teamlvl_train_q1['expansion_arr']['mean'].values)\n",
    "sns.lineplot(teamlvl_train_q2['expansion_arr']['mean'].index, teamlvl_train_q2['expansion_arr']['mean'].values)\n",
    "sns.lineplot(teamlvl_train_q3['expansion_arr']['mean'].index, teamlvl_train_q3['expansion_arr']['mean'].values)\n",
    "sns.lineplot(teamlvl_train_q4['expansion_arr']['mean'].index, teamlvl_train_q4['expansion_arr']['mean'].values)\n",
    "\n",
    "plt.xticks(np.arange(1, 3, step=1))\n",
    "plt.legend(['Q1', 'Q2', 'Q3','Q4'])\n",
    "\n",
    "plt.ylabel('Exp_arr', fontsize=16)\n",
    "plt.xlabel('Teams', fontsize=16)\n",
    "plt.show()"
   ]
  },
  {
   "cell_type": "code",
   "execution_count": 122,
   "metadata": {},
   "outputs": [],
   "source": [
    "team_sub = teamlvl_train.groupby([\"team_id\",\n",
    "      \"start_subscription_type\"]).agg({'expansion_arr':'sum'}).reset_index().sort_values(by='team_id')"
   ]
  },
  {
   "cell_type": "code",
   "execution_count": 123,
   "metadata": {},
   "outputs": [
    {
     "data": {
      "text/html": [
       "<div>\n",
       "<style scoped>\n",
       "    .dataframe tbody tr th:only-of-type {\n",
       "        vertical-align: middle;\n",
       "    }\n",
       "\n",
       "    .dataframe tbody tr th {\n",
       "        vertical-align: top;\n",
       "    }\n",
       "\n",
       "    .dataframe thead th {\n",
       "        text-align: right;\n",
       "    }\n",
       "</style>\n",
       "<table border=\"1\" class=\"dataframe\">\n",
       "  <thead>\n",
       "    <tr style=\"text-align: right;\">\n",
       "      <th></th>\n",
       "      <th>team_id</th>\n",
       "      <th>start_subscription_type</th>\n",
       "      <th>expansion_arr</th>\n",
       "    </tr>\n",
       "  </thead>\n",
       "  <tbody>\n",
       "    <tr>\n",
       "      <th>0</th>\n",
       "      <td>1</td>\n",
       "      <td>enterprise</td>\n",
       "      <td>3485804.41</td>\n",
       "    </tr>\n",
       "    <tr>\n",
       "      <th>1</th>\n",
       "      <td>1</td>\n",
       "      <td>individual</td>\n",
       "      <td>4900.00</td>\n",
       "    </tr>\n",
       "    <tr>\n",
       "      <th>2</th>\n",
       "      <td>1</td>\n",
       "      <td>team</td>\n",
       "      <td>167819.61</td>\n",
       "    </tr>\n",
       "    <tr>\n",
       "      <th>3</th>\n",
       "      <td>2</td>\n",
       "      <td>enterprise</td>\n",
       "      <td>2742833.96</td>\n",
       "    </tr>\n",
       "    <tr>\n",
       "      <th>4</th>\n",
       "      <td>2</td>\n",
       "      <td>individual</td>\n",
       "      <td>2400.00</td>\n",
       "    </tr>\n",
       "    <tr>\n",
       "      <th>5</th>\n",
       "      <td>2</td>\n",
       "      <td>team</td>\n",
       "      <td>131766.47</td>\n",
       "    </tr>\n",
       "    <tr>\n",
       "      <th>6</th>\n",
       "      <td>3</td>\n",
       "      <td>enterprise</td>\n",
       "      <td>2761210.07</td>\n",
       "    </tr>\n",
       "    <tr>\n",
       "      <th>7</th>\n",
       "      <td>3</td>\n",
       "      <td>individual</td>\n",
       "      <td>2800.00</td>\n",
       "    </tr>\n",
       "    <tr>\n",
       "      <th>8</th>\n",
       "      <td>3</td>\n",
       "      <td>team</td>\n",
       "      <td>191455.48</td>\n",
       "    </tr>\n",
       "  </tbody>\n",
       "</table>\n",
       "</div>"
      ],
      "text/plain": [
       "   team_id start_subscription_type expansion_arr\n",
       "0        1              enterprise    3485804.41\n",
       "1        1              individual       4900.00\n",
       "2        1                    team     167819.61\n",
       "3        2              enterprise    2742833.96\n",
       "4        2              individual       2400.00\n",
       "5        2                    team     131766.47\n",
       "6        3              enterprise    2761210.07\n",
       "7        3              individual       2800.00\n",
       "8        3                    team     191455.48"
      ]
     },
     "execution_count": 123,
     "metadata": {},
     "output_type": "execute_result"
    }
   ],
   "source": [
    "team_sub['expansion_arr'] = team_sub['expansion_arr'].apply(lambda x: '{:.2f}'.format(x)) # formatting values to decimal\n",
    "team_sub"
   ]
  },
  {
   "cell_type": "code",
   "execution_count": 124,
   "metadata": {},
   "outputs": [
    {
     "data": {
      "image/png": "[encoded data removed]",
      "text/plain": [
       "<Figure size 1080x504 with 1 Axes>"
      ]
     },
     "metadata": {},
     "output_type": "display_data"
    }
   ],
   "source": [
    "plt.figure(figsize=(15, 7))\n",
    "sns.barplot(x = \"start_subscription_type\", y = \"expansion_arr\", hue = \"team_id\",data = team_sub)\n",
    "plt.show()"
   ]
  },
  {
   "cell_type": "code",
   "execution_count": 125,
   "metadata": {},
   "outputs": [],
   "source": [
    "## aggregating data at team id, quarter and year and also subs type \n",
    "teamlvl_train_grp = teamlvl_train.groupby([\"team_id\", \"quarter\", \"year\",\n",
    "      \"start_subscription_type\"]).agg({'expansion_arr':'sum'}).reset_index().sort_values(by='team_id')"
   ]
  },
  {
   "cell_type": "code",
   "execution_count": 126,
   "metadata": {},
   "outputs": [
    {
     "data": {
      "text/html": [
       "<div>\n",
       "<style scoped>\n",
       "    .dataframe tbody tr th:only-of-type {\n",
       "        vertical-align: middle;\n",
       "    }\n",
       "\n",
       "    .dataframe tbody tr th {\n",
       "        vertical-align: top;\n",
       "    }\n",
       "\n",
       "    .dataframe thead th {\n",
       "        text-align: right;\n",
       "    }\n",
       "</style>\n",
       "<table border=\"1\" class=\"dataframe\">\n",
       "  <thead>\n",
       "    <tr style=\"text-align: right;\">\n",
       "      <th></th>\n",
       "      <th>team_id</th>\n",
       "      <th>quarter</th>\n",
       "      <th>year</th>\n",
       "      <th>start_subscription_type</th>\n",
       "      <th>expansion_arr</th>\n",
       "    </tr>\n",
       "  </thead>\n",
       "  <tbody>\n",
       "    <tr>\n",
       "      <th>0</th>\n",
       "      <td>1</td>\n",
       "      <td>1</td>\n",
       "      <td>2017</td>\n",
       "      <td>enterprise</td>\n",
       "      <td>139560.510716</td>\n",
       "    </tr>\n",
       "    <tr>\n",
       "      <th>28</th>\n",
       "      <td>1</td>\n",
       "      <td>3</td>\n",
       "      <td>2017</td>\n",
       "      <td>individual</td>\n",
       "      <td>300.000000</td>\n",
       "    </tr>\n",
       "    <tr>\n",
       "      <th>29</th>\n",
       "      <td>1</td>\n",
       "      <td>3</td>\n",
       "      <td>2017</td>\n",
       "      <td>team</td>\n",
       "      <td>3121.721743</td>\n",
       "    </tr>\n",
       "    <tr>\n",
       "      <th>30</th>\n",
       "      <td>1</td>\n",
       "      <td>3</td>\n",
       "      <td>2018</td>\n",
       "      <td>enterprise</td>\n",
       "      <td>224194.092578</td>\n",
       "    </tr>\n",
       "    <tr>\n",
       "      <th>31</th>\n",
       "      <td>1</td>\n",
       "      <td>3</td>\n",
       "      <td>2018</td>\n",
       "      <td>individual</td>\n",
       "      <td>300.000000</td>\n",
       "    </tr>\n",
       "    <tr>\n",
       "      <th>...</th>\n",
       "      <td>...</td>\n",
       "      <td>...</td>\n",
       "      <td>...</td>\n",
       "      <td>...</td>\n",
       "      <td>...</td>\n",
       "    </tr>\n",
       "    <tr>\n",
       "      <th>122</th>\n",
       "      <td>3</td>\n",
       "      <td>2</td>\n",
       "      <td>2018</td>\n",
       "      <td>team</td>\n",
       "      <td>5992.119448</td>\n",
       "    </tr>\n",
       "    <tr>\n",
       "      <th>123</th>\n",
       "      <td>3</td>\n",
       "      <td>2</td>\n",
       "      <td>2019</td>\n",
       "      <td>enterprise</td>\n",
       "      <td>90825.268395</td>\n",
       "    </tr>\n",
       "    <tr>\n",
       "      <th>124</th>\n",
       "      <td>3</td>\n",
       "      <td>2</td>\n",
       "      <td>2019</td>\n",
       "      <td>individual</td>\n",
       "      <td>200.000000</td>\n",
       "    </tr>\n",
       "    <tr>\n",
       "      <th>126</th>\n",
       "      <td>3</td>\n",
       "      <td>2</td>\n",
       "      <td>2020</td>\n",
       "      <td>enterprise</td>\n",
       "      <td>0.000000</td>\n",
       "    </tr>\n",
       "    <tr>\n",
       "      <th>152</th>\n",
       "      <td>3</td>\n",
       "      <td>4</td>\n",
       "      <td>2020</td>\n",
       "      <td>team</td>\n",
       "      <td>11658.418507</td>\n",
       "    </tr>\n",
       "  </tbody>\n",
       "</table>\n",
       "<p>153 rows × 5 columns</p>\n",
       "</div>"
      ],
      "text/plain": [
       "     team_id  quarter  year start_subscription_type  expansion_arr\n",
       "0          1        1  2017              enterprise  139560.510716\n",
       "28         1        3  2017              individual     300.000000\n",
       "29         1        3  2017                    team    3121.721743\n",
       "30         1        3  2018              enterprise  224194.092578\n",
       "31         1        3  2018              individual     300.000000\n",
       "..       ...      ...   ...                     ...            ...\n",
       "122        3        2  2018                    team    5992.119448\n",
       "123        3        2  2019              enterprise   90825.268395\n",
       "124        3        2  2019              individual     200.000000\n",
       "126        3        2  2020              enterprise       0.000000\n",
       "152        3        4  2020                    team   11658.418507\n",
       "\n",
       "[153 rows x 5 columns]"
      ]
     },
     "execution_count": 126,
     "metadata": {},
     "output_type": "execute_result"
    }
   ],
   "source": [
    "teamlvl_train_grp.head(160)"
   ]
  },
  {
   "cell_type": "code",
   "execution_count": 127,
   "metadata": {},
   "outputs": [],
   "source": [
    "#sns.kdeplot(teamlvl_train_grp['expansion_arr'])"
   ]
  },
  {
   "cell_type": "markdown",
   "metadata": {},
   "source": [
    "### Model"
   ]
  },
  {
   "cell_type": "code",
   "execution_count": 128,
   "metadata": {},
   "outputs": [],
   "source": [
    "# tst cases \n",
    "teamlvl_tst_grp = teamlvl_tst.groupby([\"team_id\", \"quarter\", \"year\",\n",
    "      \"start_subscription_type\"]).agg({'expansion_arr':'sum'}).reset_index().sort_values(by='team_id')"
   ]
  },
  {
   "cell_type": "code",
   "execution_count": 129,
   "metadata": {},
   "outputs": [],
   "source": [
    "## convert the subs type levels into code 0,1,2"
   ]
  },
  {
   "cell_type": "code",
   "execution_count": 130,
   "metadata": {},
   "outputs": [],
   "source": [
    "teamlvl_train_grp[['start_subscription_type']] = teamlvl_train_grp[['start_subscription_type']].apply(lambda col:pd.Categorical(col).codes)"
   ]
  },
  {
   "cell_type": "code",
   "execution_count": 131,
   "metadata": {},
   "outputs": [],
   "source": [
    "teamlvl_tst_grp[['start_subscription_type']] = teamlvl_tst_grp[['start_subscription_type']].apply(lambda col:pd.Categorical(col).codes)"
   ]
  },
  {
   "cell_type": "code",
   "execution_count": 132,
   "metadata": {},
   "outputs": [],
   "source": [
    "colst = teamlvl_train_grp.columns\n",
    "colst1= teamlvl_tst_grp.columns"
   ]
  },
  {
   "cell_type": "code",
   "execution_count": 133,
   "metadata": {},
   "outputs": [],
   "source": [
    "teamlvl_train_grp[colst] = teamlvl_train_grp[colst].apply(pd.to_numeric, errors='coerce')"
   ]
  },
  {
   "cell_type": "code",
   "execution_count": 134,
   "metadata": {},
   "outputs": [],
   "source": [
    "teamlvl_tst_grp[colst1] = teamlvl_tst_grp[colst1].apply(pd.to_numeric, errors='coerce')"
   ]
  },
  {
   "cell_type": "code",
   "execution_count": 135,
   "metadata": {},
   "outputs": [],
   "source": [
    "y_traint = teamlvl_train_grp.loc[:, ['expansion_arr']]\n",
    "x_traint = teamlvl_train_grp.drop(['expansion_arr'], axis=1)"
   ]
  },
  {
   "cell_type": "code",
   "execution_count": 136,
   "metadata": {},
   "outputs": [],
   "source": [
    "y_testt = teamlvl_tst_grp.loc[:, ['expansion_arr']]\n",
    "x_testt = teamlvl_tst_grp.drop(['expansion_arr'], axis=1)"
   ]
  },
  {
   "cell_type": "code",
   "execution_count": 137,
   "metadata": {},
   "outputs": [],
   "source": [
    "### model"
   ]
  },
  {
   "cell_type": "code",
   "execution_count": 138,
   "metadata": {},
   "outputs": [
    {
     "name": "stderr",
     "output_type": "stream",
     "text": [
      "/Users/shaivya/opt/anaconda3/lib/python3.7/site-packages/sklearn/pipeline.py:354: DataConversionWarning: A column-vector y was passed when a 1d array was expected. Please change the shape of y to (n_samples,), for example using ravel().\n",
      "  self._final_estimator.fit(Xt, y, **fit_params)\n"
     ]
    }
   ],
   "source": [
    "clf = RandomForestRegressor(random_state=0)\n",
    "\n",
    "pipe = Pipeline(steps=[('clf', clf)])\n",
    "\n",
    "param_grid_rf = [ {\n",
    "                'clf':[RandomForestRegressor()],\n",
    "                'clf__n_estimators': [140,150,160],\n",
    "                'clf__max_depth': [25,30,35],\n",
    "                'clf__max_features': ['auto',5,6]\n",
    "                }\n",
    "              ]\n",
    "\n",
    "gscv_rf1t = GridSearchCV(pipe, param_grid_rf, cv = 3, n_jobs=-1)\n",
    "model_rf1t = gscv_rf1t.fit(x_traint, y_traint)"
   ]
  },
  {
   "cell_type": "code",
   "execution_count": 139,
   "metadata": {},
   "outputs": [],
   "source": [
    "y_pred_rf = gscv_rf1t.best_estimator_.predict(x_testt)"
   ]
  },
  {
   "cell_type": "code",
   "execution_count": 140,
   "metadata": {},
   "outputs": [
    {
     "data": {
      "image/png": "[encoded data removed]",
      "text/plain": [
       "<Figure size 360x216 with 1 Axes>"
      ]
     },
     "metadata": {},
     "output_type": "display_data"
    }
   ],
   "source": [
    "plt.rcParams[\"figure.figsize\"] = (5,3)\n",
    "\n",
    "importances = gscv_rf1t.best_estimator_._final_estimator.feature_importances_\n",
    "\n",
    "attributes = list(x_traint.columns)\n",
    "indices = np.argsort(importances)\n",
    "attributes_rank = []\n",
    "for i in indices:\n",
    "    attributes_rank.append(attributes[i])\n",
    "plt.title('Feature Importances')\n",
    "plt.tight_layout()\n",
    "plt.barh(range(len(indices)), importances[indices], color='gray', align='center')\n",
    "plt.yticks(range(len(indices)), attributes_rank, fontsize=5)\n",
    "plt.xlabel('Relative Importance',fontsize=5)\n",
    "plt.xticks(color='k', size=15)\n",
    "plt.yticks(color='k', size=15)\n",
    "plt.xlim([0.0, 0.25])\n",
    "plt.show()"
   ]
  },
  {
   "cell_type": "code",
   "execution_count": 141,
   "metadata": {},
   "outputs": [
    {
     "data": {
      "text/html": [
       "<div>\n",
       "<style scoped>\n",
       "    .dataframe tbody tr th:only-of-type {\n",
       "        vertical-align: middle;\n",
       "    }\n",
       "\n",
       "    .dataframe tbody tr th {\n",
       "        vertical-align: top;\n",
       "    }\n",
       "\n",
       "    .dataframe thead th {\n",
       "        text-align: right;\n",
       "    }\n",
       "</style>\n",
       "<table border=\"1\" class=\"dataframe\">\n",
       "  <thead>\n",
       "    <tr style=\"text-align: right;\">\n",
       "      <th></th>\n",
       "      <th>team_id</th>\n",
       "      <th>quarter</th>\n",
       "      <th>year</th>\n",
       "      <th>start_subscription_type</th>\n",
       "      <th>expansion_arr</th>\n",
       "    </tr>\n",
       "  </thead>\n",
       "  <tbody>\n",
       "    <tr>\n",
       "      <th>0</th>\n",
       "      <td>1</td>\n",
       "      <td>2</td>\n",
       "      <td>2021</td>\n",
       "      <td>0</td>\n",
       "      <td>297775.944012</td>\n",
       "    </tr>\n",
       "    <tr>\n",
       "      <th>1</th>\n",
       "      <td>1</td>\n",
       "      <td>2</td>\n",
       "      <td>2021</td>\n",
       "      <td>1</td>\n",
       "      <td>413.125000</td>\n",
       "    </tr>\n",
       "    <tr>\n",
       "      <th>2</th>\n",
       "      <td>1</td>\n",
       "      <td>2</td>\n",
       "      <td>2021</td>\n",
       "      <td>2</td>\n",
       "      <td>8934.016809</td>\n",
       "    </tr>\n",
       "    <tr>\n",
       "      <th>3</th>\n",
       "      <td>2</td>\n",
       "      <td>2</td>\n",
       "      <td>2021</td>\n",
       "      <td>0</td>\n",
       "      <td>359363.999986</td>\n",
       "    </tr>\n",
       "    <tr>\n",
       "      <th>4</th>\n",
       "      <td>2</td>\n",
       "      <td>2</td>\n",
       "      <td>2021</td>\n",
       "      <td>1</td>\n",
       "      <td>180.000000</td>\n",
       "    </tr>\n",
       "    <tr>\n",
       "      <th>5</th>\n",
       "      <td>2</td>\n",
       "      <td>2</td>\n",
       "      <td>2021</td>\n",
       "      <td>2</td>\n",
       "      <td>5225.096039</td>\n",
       "    </tr>\n",
       "    <tr>\n",
       "      <th>6</th>\n",
       "      <td>3</td>\n",
       "      <td>2</td>\n",
       "      <td>2021</td>\n",
       "      <td>0</td>\n",
       "      <td>313547.907459</td>\n",
       "    </tr>\n",
       "    <tr>\n",
       "      <th>7</th>\n",
       "      <td>3</td>\n",
       "      <td>2</td>\n",
       "      <td>2021</td>\n",
       "      <td>1</td>\n",
       "      <td>342.500000</td>\n",
       "    </tr>\n",
       "    <tr>\n",
       "      <th>8</th>\n",
       "      <td>3</td>\n",
       "      <td>2</td>\n",
       "      <td>2021</td>\n",
       "      <td>2</td>\n",
       "      <td>12716.783461</td>\n",
       "    </tr>\n",
       "  </tbody>\n",
       "</table>\n",
       "</div>"
      ],
      "text/plain": [
       "   team_id  quarter  year  start_subscription_type  expansion_arr\n",
       "0        1        2  2021                        0  297775.944012\n",
       "1        1        2  2021                        1     413.125000\n",
       "2        1        2  2021                        2    8934.016809\n",
       "3        2        2  2021                        0  359363.999986\n",
       "4        2        2  2021                        1     180.000000\n",
       "5        2        2  2021                        2    5225.096039\n",
       "6        3        2  2021                        0  313547.907459\n",
       "7        3        2  2021                        1     342.500000\n",
       "8        3        2  2021                        2   12716.783461"
      ]
     },
     "execution_count": 141,
     "metadata": {},
     "output_type": "execute_result"
    }
   ],
   "source": [
    "teamlvl_tst_grp = teamlvl_tst_grp.sort_values(['team_id'], ascending=[True])\n",
    "teamlvl_tst_grp['expansion_arr'] = y_pred_rf\n",
    "#teamlvl_tst_grp.head(10)"
   ]
  },
  {
   "cell_type": "code",
   "execution_count": 409,
   "metadata": {},
   "outputs": [],
   "source": [
    "eachtmtr=teamlvl_tst_grp.groupby([\"team_id\",\"quarter\",\"year\"]).agg({'expansion_arr':'mean'}).reset_index().sort_values(by='team_id')"
   ]
  },
  {
   "cell_type": "code",
   "execution_count": 410,
   "metadata": {},
   "outputs": [
    {
     "data": {
      "text/html": [
       "<div>\n",
       "<style scoped>\n",
       "    .dataframe tbody tr th:only-of-type {\n",
       "        vertical-align: middle;\n",
       "    }\n",
       "\n",
       "    .dataframe tbody tr th {\n",
       "        vertical-align: top;\n",
       "    }\n",
       "\n",
       "    .dataframe thead th {\n",
       "        text-align: right;\n",
       "    }\n",
       "</style>\n",
       "<table border=\"1\" class=\"dataframe\">\n",
       "  <thead>\n",
       "    <tr style=\"text-align: right;\">\n",
       "      <th></th>\n",
       "      <th>team_id</th>\n",
       "      <th>quarter</th>\n",
       "      <th>year</th>\n",
       "      <th>expansion_arr</th>\n",
       "    </tr>\n",
       "  </thead>\n",
       "  <tbody>\n",
       "    <tr>\n",
       "      <th>0</th>\n",
       "      <td>1</td>\n",
       "      <td>2</td>\n",
       "      <td>2021</td>\n",
       "      <td>102374.361941</td>\n",
       "    </tr>\n",
       "    <tr>\n",
       "      <th>1</th>\n",
       "      <td>2</td>\n",
       "      <td>2</td>\n",
       "      <td>2021</td>\n",
       "      <td>121589.698675</td>\n",
       "    </tr>\n",
       "    <tr>\n",
       "      <th>2</th>\n",
       "      <td>3</td>\n",
       "      <td>2</td>\n",
       "      <td>2021</td>\n",
       "      <td>108869.063640</td>\n",
       "    </tr>\n",
       "  </tbody>\n",
       "</table>\n",
       "</div>"
      ],
      "text/plain": [
       "   team_id  quarter  year  expansion_arr\n",
       "0        1        2  2021  102374.361941\n",
       "1        2        2  2021  121589.698675\n",
       "2        3        2  2021  108869.063640"
      ]
     },
     "execution_count": 410,
     "metadata": {},
     "output_type": "execute_result"
    }
   ],
   "source": [
    "eachtmtr"
   ]
  },
  {
   "cell_type": "code",
   "execution_count": 411,
   "metadata": {},
   "outputs": [],
   "source": [
    "eachtmod=teamlvl_train_grp.groupby([\"team_id\",\"quarter\",\"year\"]).agg({'expansion_arr':'sum'}).reset_index().sort_values(by='team_id')"
   ]
  },
  {
   "cell_type": "code",
   "execution_count": 412,
   "metadata": {},
   "outputs": [
    {
     "data": {
      "text/html": [
       "<div>\n",
       "<style scoped>\n",
       "    .dataframe tbody tr th:only-of-type {\n",
       "        vertical-align: middle;\n",
       "    }\n",
       "\n",
       "    .dataframe tbody tr th {\n",
       "        vertical-align: top;\n",
       "    }\n",
       "\n",
       "    .dataframe thead th {\n",
       "        text-align: right;\n",
       "    }\n",
       "</style>\n",
       "<table border=\"1\" class=\"dataframe\">\n",
       "  <thead>\n",
       "    <tr style=\"text-align: right;\">\n",
       "      <th></th>\n",
       "      <th>team_id</th>\n",
       "      <th>quarter</th>\n",
       "      <th>year</th>\n",
       "      <th>expansion_arr</th>\n",
       "    </tr>\n",
       "  </thead>\n",
       "  <tbody>\n",
       "    <tr>\n",
       "      <th>0</th>\n",
       "      <td>1</td>\n",
       "      <td>1</td>\n",
       "      <td>2017</td>\n",
       "      <td>150061.914372</td>\n",
       "    </tr>\n",
       "    <tr>\n",
       "      <th>16</th>\n",
       "      <td>1</td>\n",
       "      <td>4</td>\n",
       "      <td>2020</td>\n",
       "      <td>384159.045258</td>\n",
       "    </tr>\n",
       "    <tr>\n",
       "      <th>15</th>\n",
       "      <td>1</td>\n",
       "      <td>4</td>\n",
       "      <td>2019</td>\n",
       "      <td>156083.262662</td>\n",
       "    </tr>\n",
       "    <tr>\n",
       "      <th>14</th>\n",
       "      <td>1</td>\n",
       "      <td>4</td>\n",
       "      <td>2018</td>\n",
       "      <td>383484.801923</td>\n",
       "    </tr>\n",
       "    <tr>\n",
       "      <th>13</th>\n",
       "      <td>1</td>\n",
       "      <td>4</td>\n",
       "      <td>2017</td>\n",
       "      <td>473649.818529</td>\n",
       "    </tr>\n",
       "  </tbody>\n",
       "</table>\n",
       "</div>"
      ],
      "text/plain": [
       "    team_id  quarter  year  expansion_arr\n",
       "0         1        1  2017  150061.914372\n",
       "16        1        4  2020  384159.045258\n",
       "15        1        4  2019  156083.262662\n",
       "14        1        4  2018  383484.801923\n",
       "13        1        4  2017  473649.818529"
      ]
     },
     "execution_count": 412,
     "metadata": {},
     "output_type": "execute_result"
    }
   ],
   "source": [
    "eachtmod.head()"
   ]
  },
  {
   "cell_type": "code",
   "execution_count": 413,
   "metadata": {},
   "outputs": [],
   "source": [
    "## Assuming all 3 teams have no influence of geographical benifits or disbenifits \n",
    "## and knowing quarter performs less better than other quarters we can keep a level of min of all \n",
    "## 307100 as a team overall target to look for in this quarter also because 2020 "
   ]
  },
  {
   "cell_type": "code",
   "execution_count": 414,
   "metadata": {},
   "outputs": [],
   "source": [
    "## this number of expansion arr can be comparitive to look at other year total arr "
   ]
  },
  {
   "cell_type": "markdown",
   "metadata": {},
   "source": [
    "### Aggregate "
   ]
  },
  {
   "cell_type": "code",
   "execution_count": 415,
   "metadata": {},
   "outputs": [],
   "source": [
    "# team 1 has 4 representative \n",
    "# team 2 has 3 representative\n",
    "# team 3 has 3 representative"
   ]
  },
  {
   "cell_type": "code",
   "execution_count": 416,
   "metadata": {},
   "outputs": [
    {
     "data": {
      "text/html": [
       "<div>\n",
       "<style scoped>\n",
       "    .dataframe tbody tr th:only-of-type {\n",
       "        vertical-align: middle;\n",
       "    }\n",
       "\n",
       "    .dataframe tbody tr th {\n",
       "        vertical-align: top;\n",
       "    }\n",
       "\n",
       "    .dataframe thead th {\n",
       "        text-align: right;\n",
       "    }\n",
       "</style>\n",
       "<table border=\"1\" class=\"dataframe\">\n",
       "  <thead>\n",
       "    <tr style=\"text-align: right;\">\n",
       "      <th></th>\n",
       "      <th>rep_id</th>\n",
       "      <th>rep_name</th>\n",
       "      <th>team_id</th>\n",
       "      <th>team_name</th>\n",
       "    </tr>\n",
       "  </thead>\n",
       "  <tbody>\n",
       "    <tr>\n",
       "      <th>0</th>\n",
       "      <td>1</td>\n",
       "      <td>Adam</td>\n",
       "      <td>1</td>\n",
       "      <td>West</td>\n",
       "    </tr>\n",
       "    <tr>\n",
       "      <th>1</th>\n",
       "      <td>2</td>\n",
       "      <td>Brittany</td>\n",
       "      <td>1</td>\n",
       "      <td>West</td>\n",
       "    </tr>\n",
       "    <tr>\n",
       "      <th>2</th>\n",
       "      <td>3</td>\n",
       "      <td>Carson</td>\n",
       "      <td>1</td>\n",
       "      <td>West</td>\n",
       "    </tr>\n",
       "    <tr>\n",
       "      <th>3</th>\n",
       "      <td>4</td>\n",
       "      <td>Danielle</td>\n",
       "      <td>1</td>\n",
       "      <td>West</td>\n",
       "    </tr>\n",
       "    <tr>\n",
       "      <th>4</th>\n",
       "      <td>5</td>\n",
       "      <td>Ethan</td>\n",
       "      <td>2</td>\n",
       "      <td>Central</td>\n",
       "    </tr>\n",
       "    <tr>\n",
       "      <th>5</th>\n",
       "      <td>6</td>\n",
       "      <td>Felicity</td>\n",
       "      <td>2</td>\n",
       "      <td>Central</td>\n",
       "    </tr>\n",
       "    <tr>\n",
       "      <th>6</th>\n",
       "      <td>7</td>\n",
       "      <td>Gregory</td>\n",
       "      <td>2</td>\n",
       "      <td>Central</td>\n",
       "    </tr>\n",
       "    <tr>\n",
       "      <th>7</th>\n",
       "      <td>8</td>\n",
       "      <td>Harriet</td>\n",
       "      <td>3</td>\n",
       "      <td>East</td>\n",
       "    </tr>\n",
       "    <tr>\n",
       "      <th>8</th>\n",
       "      <td>9</td>\n",
       "      <td>Isaac</td>\n",
       "      <td>3</td>\n",
       "      <td>East</td>\n",
       "    </tr>\n",
       "    <tr>\n",
       "      <th>9</th>\n",
       "      <td>10</td>\n",
       "      <td>Jacqueline</td>\n",
       "      <td>3</td>\n",
       "      <td>East</td>\n",
       "    </tr>\n",
       "  </tbody>\n",
       "</table>\n",
       "</div>"
      ],
      "text/plain": [
       "   rep_id    rep_name  team_id team_name\n",
       "0       1        Adam        1      West\n",
       "1       2    Brittany        1      West\n",
       "2       3      Carson        1      West\n",
       "3       4    Danielle        1      West\n",
       "4       5       Ethan        2   Central\n",
       "5       6    Felicity        2   Central\n",
       "6       7     Gregory        2   Central\n",
       "7       8     Harriet        3      East\n",
       "8       9       Isaac        3      East\n",
       "9      10  Jacqueline        3      East"
      ]
     },
     "execution_count": 416,
     "metadata": {},
     "output_type": "execute_result"
    }
   ],
   "source": [
    "rep_teams"
   ]
  },
  {
   "cell_type": "code",
   "execution_count": 417,
   "metadata": {},
   "outputs": [],
   "source": [
    "# assuming no external factors affecting team productivity \n",
    "# being equitable assuming as team you achieve goals "
   ]
  },
  {
   "cell_type": "code",
   "execution_count": 418,
   "metadata": {},
   "outputs": [
    {
     "data": {
      "text/html": [
       "<div>\n",
       "<style scoped>\n",
       "    .dataframe tbody tr th:only-of-type {\n",
       "        vertical-align: middle;\n",
       "    }\n",
       "\n",
       "    .dataframe tbody tr th {\n",
       "        vertical-align: top;\n",
       "    }\n",
       "\n",
       "    .dataframe thead th {\n",
       "        text-align: right;\n",
       "    }\n",
       "</style>\n",
       "<table border=\"1\" class=\"dataframe\">\n",
       "  <thead>\n",
       "    <tr style=\"text-align: right;\">\n",
       "      <th></th>\n",
       "      <th>team_id</th>\n",
       "      <th>quarter</th>\n",
       "      <th>year</th>\n",
       "      <th>expansion_arr</th>\n",
       "    </tr>\n",
       "  </thead>\n",
       "  <tbody>\n",
       "    <tr>\n",
       "      <th>0</th>\n",
       "      <td>1</td>\n",
       "      <td>2</td>\n",
       "      <td>2021</td>\n",
       "      <td>102374.361941</td>\n",
       "    </tr>\n",
       "    <tr>\n",
       "      <th>1</th>\n",
       "      <td>2</td>\n",
       "      <td>2</td>\n",
       "      <td>2021</td>\n",
       "      <td>121589.698675</td>\n",
       "    </tr>\n",
       "    <tr>\n",
       "      <th>2</th>\n",
       "      <td>3</td>\n",
       "      <td>2</td>\n",
       "      <td>2021</td>\n",
       "      <td>108869.063640</td>\n",
       "    </tr>\n",
       "  </tbody>\n",
       "</table>\n",
       "</div>"
      ],
      "text/plain": [
       "   team_id  quarter  year  expansion_arr\n",
       "0        1        2  2021  102374.361941\n",
       "1        2        2  2021  121589.698675\n",
       "2        3        2  2021  108869.063640"
      ]
     },
     "execution_count": 418,
     "metadata": {},
     "output_type": "execute_result"
    }
   ],
   "source": [
    "eachtmtr"
   ]
  },
  {
   "cell_type": "code",
   "execution_count": 421,
   "metadata": {},
   "outputs": [],
   "source": [
    "def my_fun(x, var1, var2, var3):\n",
    "    #print (x)\n",
    "    if x[var1]==1:\n",
    "        x[var3]=x[var2]/4\n",
    "    else:\n",
    "        x[var3]=x[var2]/3\n",
    "    return x    "
   ]
  },
  {
   "cell_type": "code",
   "execution_count": 422,
   "metadata": {},
   "outputs": [],
   "source": [
    "eachtmtr=eachtmtr.apply(lambda x: my_fun(x, 'team_id', 'expansion_arr','rep_expansion_arr'), axis=1)"
   ]
  },
  {
   "cell_type": "code",
   "execution_count": 430,
   "metadata": {},
   "outputs": [],
   "source": [
    "eachtmtr[\"team_id\"]= eachtmtr[\"team_id\"].astype(int)\n",
    "eachtmtr[\"quarter\"]= eachtmtr[\"quarter\"].astype(int)\n",
    "eachtmtr[\"year\"]= eachtmtr[\"year\"].astype(int)"
   ]
  },
  {
   "cell_type": "code",
   "execution_count": 431,
   "metadata": {},
   "outputs": [],
   "source": [
    "tbl1=pd.merge(eachreptr,rep_teams,on='rep_id',how='left')"
   ]
  },
  {
   "cell_type": "code",
   "execution_count": 432,
   "metadata": {},
   "outputs": [],
   "source": [
    "aggtb=pd.merge(tbl1,eachtmtr,on=\"team_id\",how=\"left\")"
   ]
  },
  {
   "cell_type": "code",
   "execution_count": 435,
   "metadata": {},
   "outputs": [
    {
     "data": {
      "text/html": [
       "<div>\n",
       "<style scoped>\n",
       "    .dataframe tbody tr th:only-of-type {\n",
       "        vertical-align: middle;\n",
       "    }\n",
       "\n",
       "    .dataframe tbody tr th {\n",
       "        vertical-align: top;\n",
       "    }\n",
       "\n",
       "    .dataframe thead th {\n",
       "        text-align: right;\n",
       "    }\n",
       "</style>\n",
       "<table border=\"1\" class=\"dataframe\">\n",
       "  <thead>\n",
       "    <tr style=\"text-align: right;\">\n",
       "      <th></th>\n",
       "      <th>rep_id</th>\n",
       "      <th>expansion_arr_x</th>\n",
       "      <th>rep_name</th>\n",
       "      <th>team_id</th>\n",
       "      <th>quarter</th>\n",
       "      <th>year</th>\n",
       "      <th>rep_expansion_arr</th>\n",
       "    </tr>\n",
       "  </thead>\n",
       "  <tbody>\n",
       "    <tr>\n",
       "      <th>0</th>\n",
       "      <td>1</td>\n",
       "      <td>23373.480488</td>\n",
       "      <td>Adam</td>\n",
       "      <td>1</td>\n",
       "      <td>2</td>\n",
       "      <td>2021</td>\n",
       "      <td>25593.590485</td>\n",
       "    </tr>\n",
       "    <tr>\n",
       "      <th>1</th>\n",
       "      <td>2</td>\n",
       "      <td>31599.347286</td>\n",
       "      <td>Brittany</td>\n",
       "      <td>1</td>\n",
       "      <td>2</td>\n",
       "      <td>2021</td>\n",
       "      <td>25593.590485</td>\n",
       "    </tr>\n",
       "    <tr>\n",
       "      <th>2</th>\n",
       "      <td>3</td>\n",
       "      <td>12826.688759</td>\n",
       "      <td>Carson</td>\n",
       "      <td>1</td>\n",
       "      <td>2</td>\n",
       "      <td>2021</td>\n",
       "      <td>25593.590485</td>\n",
       "    </tr>\n",
       "    <tr>\n",
       "      <th>3</th>\n",
       "      <td>4</td>\n",
       "      <td>21129.164882</td>\n",
       "      <td>Danielle</td>\n",
       "      <td>1</td>\n",
       "      <td>2</td>\n",
       "      <td>2021</td>\n",
       "      <td>25593.590485</td>\n",
       "    </tr>\n",
       "    <tr>\n",
       "      <th>4</th>\n",
       "      <td>5</td>\n",
       "      <td>10708.624798</td>\n",
       "      <td>Ethan</td>\n",
       "      <td>2</td>\n",
       "      <td>2</td>\n",
       "      <td>2021</td>\n",
       "      <td>40529.899558</td>\n",
       "    </tr>\n",
       "    <tr>\n",
       "      <th>5</th>\n",
       "      <td>6</td>\n",
       "      <td>54895.337068</td>\n",
       "      <td>Felicity</td>\n",
       "      <td>2</td>\n",
       "      <td>2</td>\n",
       "      <td>2021</td>\n",
       "      <td>40529.899558</td>\n",
       "    </tr>\n",
       "    <tr>\n",
       "      <th>6</th>\n",
       "      <td>7</td>\n",
       "      <td>65191.708499</td>\n",
       "      <td>Gregory</td>\n",
       "      <td>2</td>\n",
       "      <td>2</td>\n",
       "      <td>2021</td>\n",
       "      <td>40529.899558</td>\n",
       "    </tr>\n",
       "    <tr>\n",
       "      <th>7</th>\n",
       "      <td>8</td>\n",
       "      <td>56855.322693</td>\n",
       "      <td>Harriet</td>\n",
       "      <td>3</td>\n",
       "      <td>2</td>\n",
       "      <td>2021</td>\n",
       "      <td>36289.687880</td>\n",
       "    </tr>\n",
       "    <tr>\n",
       "      <th>8</th>\n",
       "      <td>9</td>\n",
       "      <td>48253.589807</td>\n",
       "      <td>Isaac</td>\n",
       "      <td>3</td>\n",
       "      <td>2</td>\n",
       "      <td>2021</td>\n",
       "      <td>36289.687880</td>\n",
       "    </tr>\n",
       "    <tr>\n",
       "      <th>9</th>\n",
       "      <td>10</td>\n",
       "      <td>23830.812929</td>\n",
       "      <td>Jacqueline</td>\n",
       "      <td>3</td>\n",
       "      <td>2</td>\n",
       "      <td>2021</td>\n",
       "      <td>36289.687880</td>\n",
       "    </tr>\n",
       "  </tbody>\n",
       "</table>\n",
       "</div>"
      ],
      "text/plain": [
       "   rep_id  expansion_arr_x    rep_name  team_id  quarter  year  \\\n",
       "0       1     23373.480488        Adam        1        2  2021   \n",
       "1       2     31599.347286    Brittany        1        2  2021   \n",
       "2       3     12826.688759      Carson        1        2  2021   \n",
       "3       4     21129.164882    Danielle        1        2  2021   \n",
       "4       5     10708.624798       Ethan        2        2  2021   \n",
       "5       6     54895.337068    Felicity        2        2  2021   \n",
       "6       7     65191.708499     Gregory        2        2  2021   \n",
       "7       8     56855.322693     Harriet        3        2  2021   \n",
       "8       9     48253.589807       Isaac        3        2  2021   \n",
       "9      10     23830.812929  Jacqueline        3        2  2021   \n",
       "\n",
       "   rep_expansion_arr  \n",
       "0       25593.590485  \n",
       "1       25593.590485  \n",
       "2       25593.590485  \n",
       "3       25593.590485  \n",
       "4       40529.899558  \n",
       "5       40529.899558  \n",
       "6       40529.899558  \n",
       "7       36289.687880  \n",
       "8       36289.687880  \n",
       "9       36289.687880  "
      ]
     },
     "execution_count": 435,
     "metadata": {},
     "output_type": "execute_result"
    }
   ],
   "source": [
    "aggtb.drop(['expansion_arr_y','team_name'], axis = 1) "
   ]
  },
  {
   "cell_type": "code",
   "execution_count": null,
   "metadata": {},
   "outputs": [],
   "source": [
    "So aggregate goals will be that each rep achieve their respective goals and also their team goal. "
   ]
  }
 ],
 "metadata": {
  "kernelspec": {
   "display_name": "Python 3",
   "language": "python",
   "name": "python3"
  },
  "language_info": {
   "codemirror_mode": {
    "name": "ipython",
    "version": 3
   },
   "file_extension": ".py",
   "mimetype": "text/x-python",
   "name": "python",
   "nbconvert_exporter": "python",
   "pygments_lexer": "ipython3",
   "version": "3.7.6"
  }
 },
 "nbformat": 4,
 "nbformat_minor": 4
}
